{
 "cells": [
  {
   "cell_type": "code",
   "execution_count": 1,
   "metadata": {},
   "outputs": [
    {
     "name": "stdout",
     "output_type": "stream",
     "text": [
      "WARNING:tensorflow:From c:\\Users\\danie\\AppData\\Local\\Programs\\Python\\Python311\\Lib\\site-packages\\keras\\src\\losses.py:2976: The name tf.losses.sparse_softmax_cross_entropy is deprecated. Please use tf.compat.v1.losses.sparse_softmax_cross_entropy instead.\n",
      "\n"
     ]
    }
   ],
   "source": [
    "import pandas as pd\n",
    "import numpy as np\n",
    "import matplotlib.pyplot as plt\n",
    "import cv2\n",
    "import seaborn as sns\n",
    "import os\n",
    "import warnings\n",
    "warnings.filterwarnings(\"ignore\")\n",
    "from sklearn.model_selection import train_test_split\n",
    "from sklearn.metrics import accuracy_score\n",
    "from keras.callbacks import EarlyStopping\n",
    "from tensorflow.keras import regularizers\n",
    "import tensorflow as tf\n",
    "from tensorflow import keras\n",
    "from keras import layers, models\n",
    "from tensorflow.keras.optimizers import Adam"
   ]
  },
  {
   "cell_type": "code",
   "execution_count": 2,
   "metadata": {},
   "outputs": [],
   "source": [
    "IMAGE_WIDTH= 48\n",
    "IMAGE_HEIGHT= 48\n",
    "IMAGE_CHANNELS= 1\n",
    "IMAGE_SIZE= (IMAGE_WIDTH, IMAGE_HEIGHT, IMAGE_CHANNELS)\n",
    "BATCH_SIZE = 32\n",
    "EPOCHS = 20\n",
    "optimizer = Adam(learning_rate=0.001)\n",
    "earlystop = EarlyStopping(patience=5)\n",
    "path_test = '../data/images/test'"
   ]
  },
  {
   "cell_type": "code",
   "execution_count": 3,
   "metadata": {},
   "outputs": [],
   "source": [
    "def get_image_path(id):\n",
    "    return os.path.join(path_test, f\"{id}.jpg\")"
   ]
  },
  {
   "cell_type": "code",
   "execution_count": 4,
   "metadata": {},
   "outputs": [],
   "source": [
    "def procesar_imagen(path):\n",
    "        img = cv2.imread(path, 0)\n",
    "        img_scale = np.array(img) / 255.0\n",
    "        return img_scale"
   ]
  },
  {
   "cell_type": "code",
   "execution_count": 5,
   "metadata": {},
   "outputs": [],
   "source": [
    "train = pd.read_csv('./train_set.csv')\n",
    "test = pd.read_csv('./test_set.csv')\n",
    "sample = pd.read_csv('./sample_submision.csv')"
   ]
  },
  {
   "cell_type": "code",
   "execution_count": 6,
   "metadata": {},
   "outputs": [],
   "source": [
    "test['path'] = test['id_img'].apply(get_image_path)"
   ]
  },
  {
   "cell_type": "code",
   "execution_count": 7,
   "metadata": {},
   "outputs": [
    {
     "data": {
      "text/plain": [
       "'../data/images/train/angry\\\\0.jpg'"
      ]
     },
     "execution_count": 7,
     "metadata": {},
     "output_type": "execute_result"
    }
   ],
   "source": [
    "ruta_imagen = train.loc[0, 'path']\n",
    "ruta_imagen"
   ]
  },
  {
   "cell_type": "code",
   "execution_count": 8,
   "metadata": {},
   "outputs": [],
   "source": [
    "train['Imagenes'] = train['path'].apply(procesar_imagen)"
   ]
  },
  {
   "cell_type": "code",
   "execution_count": 9,
   "metadata": {},
   "outputs": [],
   "source": [
    "test['Imagenes'] = test['path'].apply(procesar_imagen)"
   ]
  },
  {
   "cell_type": "code",
   "execution_count": 10,
   "metadata": {},
   "outputs": [
    {
     "data": {
      "text/html": [
       "<div>\n",
       "<style scoped>\n",
       "    .dataframe tbody tr th:only-of-type {\n",
       "        vertical-align: middle;\n",
       "    }\n",
       "\n",
       "    .dataframe tbody tr th {\n",
       "        vertical-align: top;\n",
       "    }\n",
       "\n",
       "    .dataframe thead th {\n",
       "        text-align: right;\n",
       "    }\n",
       "</style>\n",
       "<table border=\"1\" class=\"dataframe\">\n",
       "  <thead>\n",
       "    <tr style=\"text-align: right;\">\n",
       "      <th></th>\n",
       "      <th>id_img</th>\n",
       "      <th>path</th>\n",
       "      <th>label</th>\n",
       "      <th>Imagenes</th>\n",
       "    </tr>\n",
       "  </thead>\n",
       "  <tbody>\n",
       "    <tr>\n",
       "      <th>0</th>\n",
       "      <td>0</td>\n",
       "      <td>../data/images/train/angry\\0.jpg</td>\n",
       "      <td>angry</td>\n",
       "      <td>[[0.2823529411764706, 0.3058823529411765, 0.31...</td>\n",
       "    </tr>\n",
       "    <tr>\n",
       "      <th>1</th>\n",
       "      <td>1</td>\n",
       "      <td>../data/images/train/angry\\1.jpg</td>\n",
       "      <td>angry</td>\n",
       "      <td>[[0.596078431372549, 0.5843137254901961, 0.576...</td>\n",
       "    </tr>\n",
       "    <tr>\n",
       "      <th>2</th>\n",
       "      <td>10</td>\n",
       "      <td>../data/images/train/angry\\10.jpg</td>\n",
       "      <td>angry</td>\n",
       "      <td>[[0.11372549019607843, 0.09803921568627451, 0....</td>\n",
       "    </tr>\n",
       "    <tr>\n",
       "      <th>3</th>\n",
       "      <td>10002</td>\n",
       "      <td>../data/images/train/angry\\10002.jpg</td>\n",
       "      <td>angry</td>\n",
       "      <td>[[0.12549019607843137, 0.09019607843137255, 0....</td>\n",
       "    </tr>\n",
       "    <tr>\n",
       "      <th>4</th>\n",
       "      <td>10016</td>\n",
       "      <td>../data/images/train/angry\\10016.jpg</td>\n",
       "      <td>angry</td>\n",
       "      <td>[[0.8705882352941177, 0.8549019607843137, 0.79...</td>\n",
       "    </tr>\n",
       "    <tr>\n",
       "      <th>...</th>\n",
       "      <td>...</td>\n",
       "      <td>...</td>\n",
       "      <td>...</td>\n",
       "      <td>...</td>\n",
       "    </tr>\n",
       "    <tr>\n",
       "      <th>28816</th>\n",
       "      <td>9969</td>\n",
       "      <td>../data/images/train/surprise\\9969.jpg</td>\n",
       "      <td>surprise</td>\n",
       "      <td>[[0.0, 0.0, 0.0, 0.0, 0.0, 0.0, 0.0, 0.0, 0.00...</td>\n",
       "    </tr>\n",
       "    <tr>\n",
       "      <th>28817</th>\n",
       "      <td>9985</td>\n",
       "      <td>../data/images/train/surprise\\9985.jpg</td>\n",
       "      <td>surprise</td>\n",
       "      <td>[[0.5098039215686274, 0.5254901960784314, 0.51...</td>\n",
       "    </tr>\n",
       "    <tr>\n",
       "      <th>28818</th>\n",
       "      <td>9990</td>\n",
       "      <td>../data/images/train/surprise\\9990.jpg</td>\n",
       "      <td>surprise</td>\n",
       "      <td>[[0.9529411764705882, 0.8627450980392157, 0.81...</td>\n",
       "    </tr>\n",
       "    <tr>\n",
       "      <th>28819</th>\n",
       "      <td>9992</td>\n",
       "      <td>../data/images/train/surprise\\9992.jpg</td>\n",
       "      <td>surprise</td>\n",
       "      <td>[[0.9921568627450981, 0.9882352941176471, 0.99...</td>\n",
       "    </tr>\n",
       "    <tr>\n",
       "      <th>28820</th>\n",
       "      <td>9996</td>\n",
       "      <td>../data/images/train/surprise\\9996.jpg</td>\n",
       "      <td>surprise</td>\n",
       "      <td>[[0.8352941176470589, 0.8549019607843137, 0.83...</td>\n",
       "    </tr>\n",
       "  </tbody>\n",
       "</table>\n",
       "<p>28821 rows × 4 columns</p>\n",
       "</div>"
      ],
      "text/plain": [
       "       id_img                                    path     label  \\\n",
       "0           0        ../data/images/train/angry\\0.jpg     angry   \n",
       "1           1        ../data/images/train/angry\\1.jpg     angry   \n",
       "2          10       ../data/images/train/angry\\10.jpg     angry   \n",
       "3       10002    ../data/images/train/angry\\10002.jpg     angry   \n",
       "4       10016    ../data/images/train/angry\\10016.jpg     angry   \n",
       "...       ...                                     ...       ...   \n",
       "28816    9969  ../data/images/train/surprise\\9969.jpg  surprise   \n",
       "28817    9985  ../data/images/train/surprise\\9985.jpg  surprise   \n",
       "28818    9990  ../data/images/train/surprise\\9990.jpg  surprise   \n",
       "28819    9992  ../data/images/train/surprise\\9992.jpg  surprise   \n",
       "28820    9996  ../data/images/train/surprise\\9996.jpg  surprise   \n",
       "\n",
       "                                                Imagenes  \n",
       "0      [[0.2823529411764706, 0.3058823529411765, 0.31...  \n",
       "1      [[0.596078431372549, 0.5843137254901961, 0.576...  \n",
       "2      [[0.11372549019607843, 0.09803921568627451, 0....  \n",
       "3      [[0.12549019607843137, 0.09019607843137255, 0....  \n",
       "4      [[0.8705882352941177, 0.8549019607843137, 0.79...  \n",
       "...                                                  ...  \n",
       "28816  [[0.0, 0.0, 0.0, 0.0, 0.0, 0.0, 0.0, 0.0, 0.00...  \n",
       "28817  [[0.5098039215686274, 0.5254901960784314, 0.51...  \n",
       "28818  [[0.9529411764705882, 0.8627450980392157, 0.81...  \n",
       "28819  [[0.9921568627450981, 0.9882352941176471, 0.99...  \n",
       "28820  [[0.8352941176470589, 0.8549019607843137, 0.83...  \n",
       "\n",
       "[28821 rows x 4 columns]"
      ]
     },
     "execution_count": 10,
     "metadata": {},
     "output_type": "execute_result"
    }
   ],
   "source": [
    "train"
   ]
  },
  {
   "cell_type": "code",
   "execution_count": 11,
   "metadata": {},
   "outputs": [],
   "source": [
    "from sklearn.preprocessing import LabelEncoder\n",
    "label_encoder = LabelEncoder()\n",
    "train['label_encoded'] = label_encoder.fit_transform(train['label'])"
   ]
  },
  {
   "cell_type": "code",
   "execution_count": 12,
   "metadata": {},
   "outputs": [
    {
     "data": {
      "text/plain": [
       "array([0, 1, 2, 3, 4, 5, 6])"
      ]
     },
     "execution_count": 12,
     "metadata": {},
     "output_type": "execute_result"
    }
   ],
   "source": [
    "train['label_encoded'].unique()"
   ]
  },
  {
   "cell_type": "code",
   "execution_count": 13,
   "metadata": {},
   "outputs": [],
   "source": [
    "train = train.sample(frac=1).reset_index(drop=True)"
   ]
  },
  {
   "cell_type": "code",
   "execution_count": 14,
   "metadata": {},
   "outputs": [
    {
     "data": {
      "text/html": [
       "<div>\n",
       "<style scoped>\n",
       "    .dataframe tbody tr th:only-of-type {\n",
       "        vertical-align: middle;\n",
       "    }\n",
       "\n",
       "    .dataframe tbody tr th {\n",
       "        vertical-align: top;\n",
       "    }\n",
       "\n",
       "    .dataframe thead th {\n",
       "        text-align: right;\n",
       "    }\n",
       "</style>\n",
       "<table border=\"1\" class=\"dataframe\">\n",
       "  <thead>\n",
       "    <tr style=\"text-align: right;\">\n",
       "      <th></th>\n",
       "      <th>id_img</th>\n",
       "      <th>path</th>\n",
       "      <th>label</th>\n",
       "      <th>Imagenes</th>\n",
       "      <th>label_encoded</th>\n",
       "    </tr>\n",
       "  </thead>\n",
       "  <tbody>\n",
       "    <tr>\n",
       "      <th>0</th>\n",
       "      <td>13181</td>\n",
       "      <td>../data/images/train/sad\\13181.jpg</td>\n",
       "      <td>sad</td>\n",
       "      <td>[[0.01568627450980392, 0.023529411764705882, 0...</td>\n",
       "      <td>5</td>\n",
       "    </tr>\n",
       "    <tr>\n",
       "      <th>1</th>\n",
       "      <td>6048</td>\n",
       "      <td>../data/images/train/happy\\6048.jpg</td>\n",
       "      <td>happy</td>\n",
       "      <td>[[0.07450980392156863, 0.07058823529411765, 0....</td>\n",
       "      <td>3</td>\n",
       "    </tr>\n",
       "    <tr>\n",
       "      <th>2</th>\n",
       "      <td>23546</td>\n",
       "      <td>../data/images/train/sad\\23546.jpg</td>\n",
       "      <td>sad</td>\n",
       "      <td>[[0.3411764705882353, 0.3333333333333333, 0.32...</td>\n",
       "      <td>5</td>\n",
       "    </tr>\n",
       "    <tr>\n",
       "      <th>3</th>\n",
       "      <td>22880</td>\n",
       "      <td>../data/images/train/angry\\22880.jpg</td>\n",
       "      <td>angry</td>\n",
       "      <td>[[0.38823529411764707, 0.27450980392156865, 0....</td>\n",
       "      <td>0</td>\n",
       "    </tr>\n",
       "    <tr>\n",
       "      <th>4</th>\n",
       "      <td>9625</td>\n",
       "      <td>../data/images/train/happy\\9625.jpg</td>\n",
       "      <td>happy</td>\n",
       "      <td>[[0.7568627450980392, 0.7137254901960784, 0.62...</td>\n",
       "      <td>3</td>\n",
       "    </tr>\n",
       "    <tr>\n",
       "      <th>...</th>\n",
       "      <td>...</td>\n",
       "      <td>...</td>\n",
       "      <td>...</td>\n",
       "      <td>...</td>\n",
       "      <td>...</td>\n",
       "    </tr>\n",
       "    <tr>\n",
       "      <th>28816</th>\n",
       "      <td>34263</td>\n",
       "      <td>../data/images/train/neutral\\34263.jpg</td>\n",
       "      <td>neutral</td>\n",
       "      <td>[[0.16862745098039217, 0.1607843137254902, 0.1...</td>\n",
       "      <td>4</td>\n",
       "    </tr>\n",
       "    <tr>\n",
       "      <th>28817</th>\n",
       "      <td>498</td>\n",
       "      <td>../data/images/train/neutral\\498.jpg</td>\n",
       "      <td>neutral</td>\n",
       "      <td>[[0.9764705882352941, 0.9725490196078431, 0.97...</td>\n",
       "      <td>4</td>\n",
       "    </tr>\n",
       "    <tr>\n",
       "      <th>28818</th>\n",
       "      <td>12205</td>\n",
       "      <td>../data/images/train/fear\\12205.jpg</td>\n",
       "      <td>fear</td>\n",
       "      <td>[[0.12549019607843137, 0.21176470588235294, 0....</td>\n",
       "      <td>2</td>\n",
       "    </tr>\n",
       "    <tr>\n",
       "      <th>28819</th>\n",
       "      <td>28740</td>\n",
       "      <td>../data/images/train/neutral\\28740.jpg</td>\n",
       "      <td>neutral</td>\n",
       "      <td>[[0.23529411764705882, 0.2980392156862745, 0.3...</td>\n",
       "      <td>4</td>\n",
       "    </tr>\n",
       "    <tr>\n",
       "      <th>28820</th>\n",
       "      <td>611</td>\n",
       "      <td>../data/images/train/sad\\611.jpg</td>\n",
       "      <td>sad</td>\n",
       "      <td>[[0.615686274509804, 0.6078431372549019, 0.580...</td>\n",
       "      <td>5</td>\n",
       "    </tr>\n",
       "  </tbody>\n",
       "</table>\n",
       "<p>28821 rows × 5 columns</p>\n",
       "</div>"
      ],
      "text/plain": [
       "       id_img                                    path    label  \\\n",
       "0       13181      ../data/images/train/sad\\13181.jpg      sad   \n",
       "1        6048     ../data/images/train/happy\\6048.jpg    happy   \n",
       "2       23546      ../data/images/train/sad\\23546.jpg      sad   \n",
       "3       22880    ../data/images/train/angry\\22880.jpg    angry   \n",
       "4        9625     ../data/images/train/happy\\9625.jpg    happy   \n",
       "...       ...                                     ...      ...   \n",
       "28816   34263  ../data/images/train/neutral\\34263.jpg  neutral   \n",
       "28817     498    ../data/images/train/neutral\\498.jpg  neutral   \n",
       "28818   12205     ../data/images/train/fear\\12205.jpg     fear   \n",
       "28819   28740  ../data/images/train/neutral\\28740.jpg  neutral   \n",
       "28820     611        ../data/images/train/sad\\611.jpg      sad   \n",
       "\n",
       "                                                Imagenes  label_encoded  \n",
       "0      [[0.01568627450980392, 0.023529411764705882, 0...              5  \n",
       "1      [[0.07450980392156863, 0.07058823529411765, 0....              3  \n",
       "2      [[0.3411764705882353, 0.3333333333333333, 0.32...              5  \n",
       "3      [[0.38823529411764707, 0.27450980392156865, 0....              0  \n",
       "4      [[0.7568627450980392, 0.7137254901960784, 0.62...              3  \n",
       "...                                                  ...            ...  \n",
       "28816  [[0.16862745098039217, 0.1607843137254902, 0.1...              4  \n",
       "28817  [[0.9764705882352941, 0.9725490196078431, 0.97...              4  \n",
       "28818  [[0.12549019607843137, 0.21176470588235294, 0....              2  \n",
       "28819  [[0.23529411764705882, 0.2980392156862745, 0.3...              4  \n",
       "28820  [[0.615686274509804, 0.6078431372549019, 0.580...              5  \n",
       "\n",
       "[28821 rows x 5 columns]"
      ]
     },
     "execution_count": 14,
     "metadata": {},
     "output_type": "execute_result"
    }
   ],
   "source": [
    "train"
   ]
  },
  {
   "cell_type": "code",
   "execution_count": 15,
   "metadata": {},
   "outputs": [],
   "source": [
    "X_train = np.stack(train['Imagenes'].values)\n",
    "y_train = np.array(train['label_encoded'])\n",
    "X_test = np.stack(test['Imagenes'].values)"
   ]
  },
  {
   "cell_type": "code",
   "execution_count": 16,
   "metadata": {},
   "outputs": [
    {
     "name": "stdout",
     "output_type": "stream",
     "text": [
      "(28821, 48, 48)\n",
      "(28821,)\n",
      "(7066, 48, 48)\n"
     ]
    }
   ],
   "source": [
    "print (X_train.shape)\n",
    "print (y_train.shape)\n",
    "print (X_test.shape)"
   ]
  },
  {
   "cell_type": "code",
   "execution_count": 17,
   "metadata": {},
   "outputs": [],
   "source": [
    "X_train = np.expand_dims(X_train, -1)\n",
    "X_test = np.expand_dims(X_test, -1)"
   ]
  },
  {
   "cell_type": "code",
   "execution_count": 18,
   "metadata": {},
   "outputs": [
    {
     "name": "stdout",
     "output_type": "stream",
     "text": [
      "(28821, 48, 48, 1)\n",
      "(28821,)\n",
      "(7066, 48, 48, 1)\n"
     ]
    }
   ],
   "source": [
    "print (X_train.shape)\n",
    "print (y_train.shape)\n",
    "print (X_test.shape)"
   ]
  },
  {
   "cell_type": "code",
   "execution_count": 19,
   "metadata": {},
   "outputs": [],
   "source": [
    "# model = keras.Sequential([\n",
    "#     keras.layers.Conv2D(64, (3,3), activation=\"relu\", input_shape=(IMAGE_SIZE)),\n",
    "#     keras.layers.MaxPooling2D(2,2),\n",
    "#     keras.layers.Conv2D(32, (3,3), activation=\"relu\"),\n",
    "#     keras.layers.MaxPooling2D(2,2),\n",
    "#     keras.layers.Flatten(),\n",
    "#     keras.layers.Dense(64, activation=\"relu\"),\n",
    "#     keras.layers.Dense(16, activation=\"relu\"),\n",
    "#     keras.layers.Dense(7, activation=\"softmax\")\n",
    "# ])"
   ]
  },
  {
   "cell_type": "code",
   "execution_count": 20,
   "metadata": {},
   "outputs": [],
   "source": [
    "# model.compile(optimizer='adam',\n",
    "#               loss=\"sparse_categorical_crossentropy\",\n",
    "#               metrics=['accuracy'])"
   ]
  },
  {
   "cell_type": "code",
   "execution_count": 21,
   "metadata": {},
   "outputs": [],
   "source": [
    "# history = model.fit(X_train,\n",
    "#                     y_train,\n",
    "#                     batch_size=BATCH_SIZE,\n",
    "#                     epochs=EPOCHS,\n",
    "#                     validation_split=0.2)"
   ]
  },
  {
   "cell_type": "code",
   "execution_count": 22,
   "metadata": {},
   "outputs": [
    {
     "name": "stdout",
     "output_type": "stream",
     "text": [
      "WARNING:tensorflow:From c:\\Users\\danie\\AppData\\Local\\Programs\\Python\\Python311\\Lib\\site-packages\\keras\\src\\backend.py:873: The name tf.get_default_graph is deprecated. Please use tf.compat.v1.get_default_graph instead.\n",
      "\n",
      "WARNING:tensorflow:From c:\\Users\\danie\\AppData\\Local\\Programs\\Python\\Python311\\Lib\\site-packages\\keras\\src\\layers\\pooling\\max_pooling2d.py:161: The name tf.nn.max_pool is deprecated. Please use tf.nn.max_pool2d instead.\n",
      "\n",
      "WARNING:tensorflow:From c:\\Users\\danie\\AppData\\Local\\Programs\\Python\\Python311\\Lib\\site-packages\\keras\\src\\optimizers\\__init__.py:309: The name tf.train.Optimizer is deprecated. Please use tf.compat.v1.train.Optimizer instead.\n",
      "\n"
     ]
    }
   ],
   "source": [
    "model_2 = keras.Sequential([\n",
    "    keras.layers.Conv2D(64, (3,3), activation=\"relu\", input_shape=(IMAGE_SIZE)),\n",
    "    keras.layers.MaxPooling2D(2,2),\n",
    "    keras.layers.Conv2D(32, (3,3), activation=\"relu\"),\n",
    "    keras.layers.MaxPooling2D(2,2),\n",
    "    keras.layers.Flatten(),\n",
    "    keras.layers.Dense(64, activation=\"relu\"),\n",
    "    keras.layers.Dense(16, activation=\"relu\"),\n",
    "    keras.layers.Dense(7, activation=\"softmax\")\n",
    "    \n",
    "])\n",
    "\n",
    "model_2.compile(optimizer='adam',\n",
    "              loss=\"sparse_categorical_crossentropy\",\n",
    "              metrics=['accuracy'])"
   ]
  },
  {
   "cell_type": "code",
   "execution_count": 23,
   "metadata": {},
   "outputs": [
    {
     "name": "stdout",
     "output_type": "stream",
     "text": [
      "Epoch 1/7\n",
      "WARNING:tensorflow:From c:\\Users\\danie\\AppData\\Local\\Programs\\Python\\Python311\\Lib\\site-packages\\keras\\src\\utils\\tf_utils.py:492: The name tf.ragged.RaggedTensorValue is deprecated. Please use tf.compat.v1.ragged.RaggedTensorValue instead.\n",
      "\n",
      "WARNING:tensorflow:From c:\\Users\\danie\\AppData\\Local\\Programs\\Python\\Python311\\Lib\\site-packages\\keras\\src\\engine\\base_layer_utils.py:384: The name tf.executing_eagerly_outside_functions is deprecated. Please use tf.compat.v1.executing_eagerly_outside_functions instead.\n",
      "\n",
      "721/721 [==============================] - 10s 13ms/step - loss: 1.7655 - accuracy: 0.2804 - val_loss: 1.6661 - val_accuracy: 0.3324\n",
      "Epoch 2/7\n",
      "721/721 [==============================] - 9s 13ms/step - loss: 1.5671 - accuracy: 0.3931 - val_loss: 1.5256 - val_accuracy: 0.4014\n",
      "Epoch 3/7\n",
      "721/721 [==============================] - 9s 13ms/step - loss: 1.4461 - accuracy: 0.4403 - val_loss: 1.4407 - val_accuracy: 0.4363\n",
      "Epoch 4/7\n",
      "721/721 [==============================] - 9s 12ms/step - loss: 1.3748 - accuracy: 0.4680 - val_loss: 1.3821 - val_accuracy: 0.4656\n",
      "Epoch 5/7\n",
      "721/721 [==============================] - 9s 12ms/step - loss: 1.3174 - accuracy: 0.4957 - val_loss: 1.3542 - val_accuracy: 0.4746\n",
      "Epoch 6/7\n",
      "721/721 [==============================] - 9s 12ms/step - loss: 1.2759 - accuracy: 0.5094 - val_loss: 1.3462 - val_accuracy: 0.4853\n",
      "Epoch 7/7\n",
      "721/721 [==============================] - 9s 12ms/step - loss: 1.2321 - accuracy: 0.5284 - val_loss: 1.3499 - val_accuracy: 0.4885\n"
     ]
    }
   ],
   "source": [
    "history_2 = model_2.fit(X_train,\n",
    "                    y_train,\n",
    "                    batch_size=BATCH_SIZE,\n",
    "                    epochs=7,\n",
    "                    callbacks = earlystop,\n",
    "                    validation_split=0.2)"
   ]
  },
  {
   "cell_type": "code",
   "execution_count": 76,
   "metadata": {},
   "outputs": [
    {
     "name": "stdout",
     "output_type": "stream",
     "text": [
      "Epoch 1/3\n",
      "721/721 [==============================] - 9s 12ms/step - loss: 1.1915 - accuracy: 0.5463 - val_loss: 1.3199 - val_accuracy: 0.5030\n",
      "Epoch 2/3\n",
      "721/721 [==============================] - 9s 12ms/step - loss: 1.1557 - accuracy: 0.5619 - val_loss: 1.3241 - val_accuracy: 0.5042\n",
      "Epoch 3/3\n",
      "721/721 [==============================] - 9s 12ms/step - loss: 1.1197 - accuracy: 0.5765 - val_loss: 1.3291 - val_accuracy: 0.5062\n"
     ]
    }
   ],
   "source": [
    "history_2 = model_2.fit(X_train,\n",
    "                    y_train,\n",
    "                    batch_size=BATCH_SIZE,\n",
    "                    epochs=3,\n",
    "                    callbacks = earlystop,\n",
    "                    validation_split=0.2)"
   ]
  },
  {
   "cell_type": "code",
   "execution_count": 24,
   "metadata": {},
   "outputs": [],
   "source": [
    "loss = history_2.history['loss']\n",
    "val_loss = history_2.history['val_loss']"
   ]
  },
  {
   "cell_type": "code",
   "execution_count": 25,
   "metadata": {},
   "outputs": [],
   "source": [
    "best_epoch = val_loss.index(min(val_loss)) + 1"
   ]
  },
  {
   "cell_type": "code",
   "execution_count": 26,
   "metadata": {},
   "outputs": [
    {
     "data": {
      "image/png": "[encoded data removed]",
      "text/plain": [
       "<Figure size 1200x500 with 2 Axes>"
      ]
     },
     "metadata": {},
     "output_type": "display_data"
    }
   ],
   "source": [
    "# Acceder a los datos del historial\n",
    "loss = history_2.history['loss']\n",
    "val_loss = history_2.history['val_loss']\n",
    "accuracy = history_2.history['accuracy']  # Cambia 'accuracy' por la métrica que usaste\n",
    "val_accuracy = history_2.history['val_accuracy']  # Ídem\n",
    "\n",
    "# Crear gráficos para pérdida y precisión\n",
    "plt.figure(figsize=(12, 5))\n",
    "\n",
    "plt.subplot(1, 2, 1)\n",
    "plt.plot(loss, label='Training Loss')\n",
    "plt.plot(val_loss, label='Validation Loss')\n",
    "plt.title('Training and Validation Loss')\n",
    "plt.legend()\n",
    "\n",
    "plt.subplot(1, 2, 2)\n",
    "plt.plot(accuracy, label='Training Accuracy')\n",
    "plt.plot(val_accuracy, label='Validation Accuracy')\n",
    "plt.title('Training and Validation Accuracy')\n",
    "plt.legend()\n",
    "\n",
    "plt.show()"
   ]
  },
  {
   "cell_type": "code",
   "execution_count": 77,
   "metadata": {},
   "outputs": [
    {
     "name": "stdout",
     "output_type": "stream",
     "text": [
      "221/221 [==============================] - 1s 3ms/step\n"
     ]
    }
   ],
   "source": [
    "y_pred_2 = model_2.predict(X_test)"
   ]
  },
  {
   "cell_type": "code",
   "execution_count": 78,
   "metadata": {},
   "outputs": [],
   "source": [
    "# layers = [\n",
    "#     keras.layers.Conv2D(32, (3,3), activation='relu', input_shape=IMAGE_SIZE),\n",
    "#     keras.layers.MaxPooling2D(pool_size=(2,2)),\n",
    "    \n",
    "#     keras.layers.Conv2D(64, (3,3), activation='relu'),\n",
    "#     keras.layers.MaxPooling2D(pool_size=(2,2)),\n",
    "    \n",
    "#     keras.layers.Flatten(),\n",
    "    \n",
    "#     keras.layers.Dense(64, activation='relu', kernel_regularizer=regularizers.l2(0.001)),\n",
    "#     keras.layers.Dropout(0.5),\n",
    "    \n",
    "#     keras.layers.Dense(32, activation='relu', kernel_regularizer=regularizers.l2(0.001)),\n",
    "#     keras.layers.Dropout(0.5),\n",
    "    \n",
    "#     keras.layers.Dense(7, activation='softmax')\n",
    "# ]\n",
    "\n",
    "# model_3 = keras.Sequential(layers)\n",
    "# model_3.compile(optimizer=optimizer,\n",
    "#                 loss='sparse_categorical_crossentropy',\n",
    "#                 metrics=['accuracy'])"
   ]
  },
  {
   "cell_type": "code",
   "execution_count": 79,
   "metadata": {},
   "outputs": [],
   "source": [
    "# history_3 = model_3.fit(X_train,\n",
    "#                     y_train,\n",
    "#                     batch_size=BATCH_SIZE,\n",
    "#                     epochs=9,\n",
    "#                     callbacks = earlystop,\n",
    "#                     validation_split=0.2)"
   ]
  },
  {
   "cell_type": "code",
   "execution_count": 30,
   "metadata": {},
   "outputs": [],
   "source": [
    "# loss_2 = history_3.history['loss']\n",
    "# val_loss_2 = history_3.history['val_loss']"
   ]
  },
  {
   "cell_type": "code",
   "execution_count": 31,
   "metadata": {},
   "outputs": [],
   "source": [
    "# best_epoch = val_loss_2.index(min(val_loss_2)) + 1"
   ]
  },
  {
   "cell_type": "code",
   "execution_count": 32,
   "metadata": {},
   "outputs": [
    {
     "name": "stdout",
     "output_type": "stream",
     "text": [
      "221/221 [==============================] - 1s 2ms/step\n"
     ]
    }
   ],
   "source": [
    "# y_pred_3 = model_3.predict(X_test)"
   ]
  },
  {
   "cell_type": "code",
   "execution_count": 39,
   "metadata": {},
   "outputs": [
    {
     "data": {
      "text/plain": [
       "array([0.09167407, 0.00158398, 0.1101916 , 0.36441675, 0.2183063 ,\n",
       "       0.1895076 , 0.02431967], dtype=float32)"
      ]
     },
     "execution_count": 39,
     "metadata": {},
     "output_type": "execute_result"
    }
   ],
   "source": [
    "y_pred_2[0]"
   ]
  },
  {
   "cell_type": "code",
   "execution_count": 40,
   "metadata": {},
   "outputs": [
    {
     "data": {
      "text/plain": [
       "array([0.1731687 , 0.02250624, 0.1534915 , 0.17107143, 0.21804938,\n",
       "       0.23121133, 0.03050139], dtype=float32)"
      ]
     },
     "execution_count": 40,
     "metadata": {},
     "output_type": "execute_result"
    }
   ],
   "source": [
    "y_pred_3[0]"
   ]
  },
  {
   "cell_type": "code",
   "execution_count": 44,
   "metadata": {},
   "outputs": [
    {
     "data": {
      "text/plain": [
       "array([3, 5, 5, ..., 6, 4, 6], dtype=int64)"
      ]
     },
     "execution_count": 44,
     "metadata": {},
     "output_type": "execute_result"
    }
   ],
   "source": [
    "pred_labels2 = np.argmax(y_pred_2, axis=1)\n",
    "pred_labels2"
   ]
  },
  {
   "cell_type": "code",
   "execution_count": 69,
   "metadata": {},
   "outputs": [
    {
     "data": {
      "text/plain": [
       "array([5, 6, 4, ..., 6, 4, 6], dtype=int64)"
      ]
     },
     "execution_count": 69,
     "metadata": {},
     "output_type": "execute_result"
    }
   ],
   "source": [
    "pred_labels3 = np.argmax(y_pred_3, axis=1)\n",
    "pred_labels3"
   ]
  },
  {
   "cell_type": "code",
   "execution_count": 54,
   "metadata": {},
   "outputs": [
    {
     "data": {
      "text/plain": [
       "(7066, 7)"
      ]
     },
     "execution_count": 54,
     "metadata": {},
     "output_type": "execute_result"
    }
   ],
   "source": [
    "y_pred_3.shape"
   ]
  },
  {
   "cell_type": "code",
   "execution_count": 70,
   "metadata": {},
   "outputs": [],
   "source": [
    "submi_3 = label_encoder.inverse_transform(pred_labels3)"
   ]
  },
  {
   "cell_type": "code",
   "execution_count": 71,
   "metadata": {},
   "outputs": [],
   "source": [
    "submi_2 = label_encoder.inverse_transform(pred_labels2)"
   ]
  },
  {
   "cell_type": "code",
   "execution_count": 57,
   "metadata": {},
   "outputs": [
    {
     "data": {
      "text/plain": [
       "array(['happy', 'sad', 'sad', ..., 'surprise', 'neutral', 'surprise'],\n",
       "      dtype=object)"
      ]
     },
     "execution_count": 57,
     "metadata": {},
     "output_type": "execute_result"
    }
   ],
   "source": [
    "submi_3"
   ]
  },
  {
   "cell_type": "code",
   "execution_count": 72,
   "metadata": {},
   "outputs": [],
   "source": [
    "submission_1 = pd.DataFrame({'id_img': test['id_img'].values, 'label': submi_2})"
   ]
  },
  {
   "cell_type": "code",
   "execution_count": 73,
   "metadata": {},
   "outputs": [],
   "source": [
    "submission_2 = pd.DataFrame({'id_img': test['id_img'].values, 'label': submi_3})"
   ]
  },
  {
   "cell_type": "code",
   "execution_count": 60,
   "metadata": {},
   "outputs": [
    {
     "data": {
      "text/html": [
       "<div>\n",
       "<style scoped>\n",
       "    .dataframe tbody tr th:only-of-type {\n",
       "        vertical-align: middle;\n",
       "    }\n",
       "\n",
       "    .dataframe tbody tr th {\n",
       "        vertical-align: top;\n",
       "    }\n",
       "\n",
       "    .dataframe thead th {\n",
       "        text-align: right;\n",
       "    }\n",
       "</style>\n",
       "<table border=\"1\" class=\"dataframe\">\n",
       "  <thead>\n",
       "    <tr style=\"text-align: right;\">\n",
       "      <th></th>\n",
       "      <th>id_img</th>\n",
       "      <th>label</th>\n",
       "    </tr>\n",
       "  </thead>\n",
       "  <tbody>\n",
       "    <tr>\n",
       "      <th>0</th>\n",
       "      <td>10052</td>\n",
       "      <td>happy</td>\n",
       "    </tr>\n",
       "    <tr>\n",
       "      <th>1</th>\n",
       "      <td>10065</td>\n",
       "      <td>sad</td>\n",
       "    </tr>\n",
       "    <tr>\n",
       "      <th>2</th>\n",
       "      <td>10079</td>\n",
       "      <td>sad</td>\n",
       "    </tr>\n",
       "    <tr>\n",
       "      <th>3</th>\n",
       "      <td>10095</td>\n",
       "      <td>sad</td>\n",
       "    </tr>\n",
       "    <tr>\n",
       "      <th>4</th>\n",
       "      <td>10121</td>\n",
       "      <td>angry</td>\n",
       "    </tr>\n",
       "    <tr>\n",
       "      <th>...</th>\n",
       "      <td>...</td>\n",
       "      <td>...</td>\n",
       "    </tr>\n",
       "    <tr>\n",
       "      <th>7061</th>\n",
       "      <td>9806</td>\n",
       "      <td>surprise</td>\n",
       "    </tr>\n",
       "    <tr>\n",
       "      <th>7062</th>\n",
       "      <td>9830</td>\n",
       "      <td>surprise</td>\n",
       "    </tr>\n",
       "    <tr>\n",
       "      <th>7063</th>\n",
       "      <td>9853</td>\n",
       "      <td>surprise</td>\n",
       "    </tr>\n",
       "    <tr>\n",
       "      <th>7064</th>\n",
       "      <td>9878</td>\n",
       "      <td>neutral</td>\n",
       "    </tr>\n",
       "    <tr>\n",
       "      <th>7065</th>\n",
       "      <td>993</td>\n",
       "      <td>surprise</td>\n",
       "    </tr>\n",
       "  </tbody>\n",
       "</table>\n",
       "<p>7066 rows × 2 columns</p>\n",
       "</div>"
      ],
      "text/plain": [
       "      id_img     label\n",
       "0      10052     happy\n",
       "1      10065       sad\n",
       "2      10079       sad\n",
       "3      10095       sad\n",
       "4      10121     angry\n",
       "...      ...       ...\n",
       "7061    9806  surprise\n",
       "7062    9830  surprise\n",
       "7063    9853  surprise\n",
       "7064    9878   neutral\n",
       "7065     993  surprise\n",
       "\n",
       "[7066 rows x 2 columns]"
      ]
     },
     "execution_count": 60,
     "metadata": {},
     "output_type": "execute_result"
    }
   ],
   "source": [
    "submission_1"
   ]
  },
  {
   "cell_type": "code",
   "execution_count": 74,
   "metadata": {},
   "outputs": [],
   "source": [
    "submission_1.to_csv('submission_1.csv', index=False)"
   ]
  },
  {
   "cell_type": "code",
   "execution_count": 75,
   "metadata": {},
   "outputs": [],
   "source": [
    "submission_2.to_csv('submission_2.csv', index=False)\n",
    "# ESTE VALE MIERDA"
   ]
  },
  {
   "cell_type": "code",
   "execution_count": null,
   "metadata": {},
   "outputs": [],
   "source": [
    "model_2 = keras.Sequential([\n",
    "    keras.layers.Conv2D(64, (3,3), activation=\"relu\", input_shape=(IMAGE_SIZE)),\n",
    "    keras.layers.MaxPooling2D(2,2),\n",
    "    keras.layers.Conv2D(32, (3,3), activation=\"relu\"),\n",
    "    keras.layers.MaxPooling2D(2,2),\n",
    "    keras.layers.Flatten(),\n",
    "    keras.layers.Dense(64, activation=\"relu\"),\n",
    "    keras.layers.Dense(16, activation=\"relu\"),\n",
    "    keras.layers.Dense(7, activation=\"softmax\")\n",
    "    \n",
    "])\n",
    "\n",
    "model_2.compile(optimizer='adam',\n",
    "              loss=\"sparse_categorical_crossentropy\",\n",
    "              metrics=['accuracy'])"
   ]
  }
 ],
 "metadata": {
  "kernelspec": {
   "display_name": "Python 3",
   "language": "python",
   "name": "python3"
  },
  "language_info": {
   "codemirror_mode": {
    "name": "ipython",
    "version": 3
   },
   "file_extension": ".py",
   "mimetype": "text/x-python",
   "name": "python",
   "nbconvert_exporter": "python",
   "pygments_lexer": "ipython3",
   "version": "3.11.4"
  }
 },
 "nbformat": 4,
 "nbformat_minor": 2
}
