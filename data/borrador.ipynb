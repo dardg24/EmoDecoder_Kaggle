{
 "cells": [
  {
   "cell_type": "code",
   "execution_count": 1,
   "metadata": {},
   "outputs": [
    {
     "name": "stdout",
     "output_type": "stream",
     "text": [
      "WARNING:tensorflow:From c:\\Users\\danie\\AppData\\Local\\Programs\\Python\\Python311\\Lib\\site-packages\\keras\\src\\losses.py:2976: The name tf.losses.sparse_softmax_cross_entropy is deprecated. Please use tf.compat.v1.losses.sparse_softmax_cross_entropy instead.\n",
      "\n"
     ]
    }
   ],
   "source": [
    "import pandas as pd\n",
    "import numpy as np\n",
    "import matplotlib.pyplot as plt\n",
    "import cv2\n",
    "import seaborn as sns\n",
    "import os\n",
    "import warnings\n",
    "warnings.filterwarnings(\"ignore\")\n",
    "from sklearn.model_selection import train_test_split\n",
    "from sklearn.metrics import accuracy_score\n",
    "from keras.callbacks import EarlyStopping\n",
    "from tensorflow.keras import regularizers\n",
    "import tensorflow as tf\n",
    "from tensorflow import keras\n",
    "from keras import layers, models\n",
    "from tensorflow.keras.optimizers import Adam"
   ]
  },
  {
   "cell_type": "code",
   "execution_count": 2,
   "metadata": {},
   "outputs": [],
   "source": [
    "IMAGE_WIDTH= 48\n",
    "IMAGE_HEIGHT= 48\n",
    "IMAGE_CHANNELS= 1\n",
    "IMAGE_SIZE= (IMAGE_WIDTH, IMAGE_HEIGHT, IMAGE_CHANNELS)\n",
    "BATCH_SIZE = 32\n",
    "EPOCHS = 20\n",
    "optimizer = Adam(learning_rate=0.001)\n",
    "earlystop = EarlyStopping(patience=5)\n",
    "path_test = '../data/images/test'"
   ]
  },
  {
   "cell_type": "code",
   "execution_count": 3,
   "metadata": {},
   "outputs": [],
   "source": [
    "def get_image_path(id):\n",
    "    return os.path.join(path_test, f\"{id}.jpg\")"
   ]
  },
  {
   "cell_type": "code",
   "execution_count": 4,
   "metadata": {},
   "outputs": [],
   "source": [
    "def procesar_imagen(path):\n",
    "        img = cv2.imread(path, 0)\n",
    "        img_scale = np.array(img) / 255.0\n",
    "        return img_scale"
   ]
  },
  {
   "cell_type": "code",
   "execution_count": 5,
   "metadata": {},
   "outputs": [],
   "source": [
    "train = pd.read_csv('./train_set.csv')\n",
    "test = pd.read_csv('./test_set.csv')\n",
    "sample = pd.read_csv('./sample_submision.csv')"
   ]
  },
  {
   "cell_type": "code",
   "execution_count": 6,
   "metadata": {},
   "outputs": [],
   "source": [
    "test['path'] = test['id_img'].apply(get_image_path)"
   ]
  },
  {
   "cell_type": "code",
   "execution_count": 7,
   "metadata": {},
   "outputs": [
    {
     "data": {
      "text/plain": [
       "'../data/images/train/angry\\\\0.jpg'"
      ]
     },
     "execution_count": 7,
     "metadata": {},
     "output_type": "execute_result"
    }
   ],
   "source": [
    "ruta_imagen = train.loc[0, 'path']\n",
    "ruta_imagen"
   ]
  },
  {
   "cell_type": "code",
   "execution_count": 8,
   "metadata": {},
   "outputs": [],
   "source": [
    "train['Imagenes'] = train['path'].apply(procesar_imagen)"
   ]
  },
  {
   "cell_type": "code",
   "execution_count": 9,
   "metadata": {},
   "outputs": [],
   "source": [
    "test['Imagenes'] = test['path'].apply(procesar_imagen)"
   ]
  },
  {
   "cell_type": "code",
   "execution_count": 10,
   "metadata": {},
   "outputs": [
    {
     "data": {
      "text/html": [
       "<div>\n",
       "<style scoped>\n",
       "    .dataframe tbody tr th:only-of-type {\n",
       "        vertical-align: middle;\n",
       "    }\n",
       "\n",
       "    .dataframe tbody tr th {\n",
       "        vertical-align: top;\n",
       "    }\n",
       "\n",
       "    .dataframe thead th {\n",
       "        text-align: right;\n",
       "    }\n",
       "</style>\n",
       "<table border=\"1\" class=\"dataframe\">\n",
       "  <thead>\n",
       "    <tr style=\"text-align: right;\">\n",
       "      <th></th>\n",
       "      <th>id_img</th>\n",
       "      <th>path</th>\n",
       "      <th>label</th>\n",
       "      <th>Imagenes</th>\n",
       "    </tr>\n",
       "  </thead>\n",
       "  <tbody>\n",
       "    <tr>\n",
       "      <th>0</th>\n",
       "      <td>0</td>\n",
       "      <td>../data/images/train/angry\\0.jpg</td>\n",
       "      <td>angry</td>\n",
       "      <td>[[0.2823529411764706, 0.3058823529411765, 0.31...</td>\n",
       "    </tr>\n",
       "    <tr>\n",
       "      <th>1</th>\n",
       "      <td>1</td>\n",
       "      <td>../data/images/train/angry\\1.jpg</td>\n",
       "      <td>angry</td>\n",
       "      <td>[[0.596078431372549, 0.5843137254901961, 0.576...</td>\n",
       "    </tr>\n",
       "    <tr>\n",
       "      <th>2</th>\n",
       "      <td>10</td>\n",
       "      <td>../data/images/train/angry\\10.jpg</td>\n",
       "      <td>angry</td>\n",
       "      <td>[[0.11372549019607843, 0.09803921568627451, 0....</td>\n",
       "    </tr>\n",
       "    <tr>\n",
       "      <th>3</th>\n",
       "      <td>10002</td>\n",
       "      <td>../data/images/train/angry\\10002.jpg</td>\n",
       "      <td>angry</td>\n",
       "      <td>[[0.12549019607843137, 0.09019607843137255, 0....</td>\n",
       "    </tr>\n",
       "    <tr>\n",
       "      <th>4</th>\n",
       "      <td>10016</td>\n",
       "      <td>../data/images/train/angry\\10016.jpg</td>\n",
       "      <td>angry</td>\n",
       "      <td>[[0.8705882352941177, 0.8549019607843137, 0.79...</td>\n",
       "    </tr>\n",
       "    <tr>\n",
       "      <th>...</th>\n",
       "      <td>...</td>\n",
       "      <td>...</td>\n",
       "      <td>...</td>\n",
       "      <td>...</td>\n",
       "    </tr>\n",
       "    <tr>\n",
       "      <th>28816</th>\n",
       "      <td>9969</td>\n",
       "      <td>../data/images/train/surprise\\9969.jpg</td>\n",
       "      <td>surprise</td>\n",
       "      <td>[[0.0, 0.0, 0.0, 0.0, 0.0, 0.0, 0.0, 0.0, 0.00...</td>\n",
       "    </tr>\n",
       "    <tr>\n",
       "      <th>28817</th>\n",
       "      <td>9985</td>\n",
       "      <td>../data/images/train/surprise\\9985.jpg</td>\n",
       "      <td>surprise</td>\n",
       "      <td>[[0.5098039215686274, 0.5254901960784314, 0.51...</td>\n",
       "    </tr>\n",
       "    <tr>\n",
       "      <th>28818</th>\n",
       "      <td>9990</td>\n",
       "      <td>../data/images/train/surprise\\9990.jpg</td>\n",
       "      <td>surprise</td>\n",
       "      <td>[[0.9529411764705882, 0.8627450980392157, 0.81...</td>\n",
       "    </tr>\n",
       "    <tr>\n",
       "      <th>28819</th>\n",
       "      <td>9992</td>\n",
       "      <td>../data/images/train/surprise\\9992.jpg</td>\n",
       "      <td>surprise</td>\n",
       "      <td>[[0.9921568627450981, 0.9882352941176471, 0.99...</td>\n",
       "    </tr>\n",
       "    <tr>\n",
       "      <th>28820</th>\n",
       "      <td>9996</td>\n",
       "      <td>../data/images/train/surprise\\9996.jpg</td>\n",
       "      <td>surprise</td>\n",
       "      <td>[[0.8352941176470589, 0.8549019607843137, 0.83...</td>\n",
       "    </tr>\n",
       "  </tbody>\n",
       "</table>\n",
       "<p>28821 rows × 4 columns</p>\n",
       "</div>"
      ],
      "text/plain": [
       "       id_img                                    path     label  \\\n",
       "0           0        ../data/images/train/angry\\0.jpg     angry   \n",
       "1           1        ../data/images/train/angry\\1.jpg     angry   \n",
       "2          10       ../data/images/train/angry\\10.jpg     angry   \n",
       "3       10002    ../data/images/train/angry\\10002.jpg     angry   \n",
       "4       10016    ../data/images/train/angry\\10016.jpg     angry   \n",
       "...       ...                                     ...       ...   \n",
       "28816    9969  ../data/images/train/surprise\\9969.jpg  surprise   \n",
       "28817    9985  ../data/images/train/surprise\\9985.jpg  surprise   \n",
       "28818    9990  ../data/images/train/surprise\\9990.jpg  surprise   \n",
       "28819    9992  ../data/images/train/surprise\\9992.jpg  surprise   \n",
       "28820    9996  ../data/images/train/surprise\\9996.jpg  surprise   \n",
       "\n",
       "                                                Imagenes  \n",
       "0      [[0.2823529411764706, 0.3058823529411765, 0.31...  \n",
       "1      [[0.596078431372549, 0.5843137254901961, 0.576...  \n",
       "2      [[0.11372549019607843, 0.09803921568627451, 0....  \n",
       "3      [[0.12549019607843137, 0.09019607843137255, 0....  \n",
       "4      [[0.8705882352941177, 0.8549019607843137, 0.79...  \n",
       "...                                                  ...  \n",
       "28816  [[0.0, 0.0, 0.0, 0.0, 0.0, 0.0, 0.0, 0.0, 0.00...  \n",
       "28817  [[0.5098039215686274, 0.5254901960784314, 0.51...  \n",
       "28818  [[0.9529411764705882, 0.8627450980392157, 0.81...  \n",
       "28819  [[0.9921568627450981, 0.9882352941176471, 0.99...  \n",
       "28820  [[0.8352941176470589, 0.8549019607843137, 0.83...  \n",
       "\n",
       "[28821 rows x 4 columns]"
      ]
     },
     "execution_count": 10,
     "metadata": {},
     "output_type": "execute_result"
    }
   ],
   "source": [
    "train"
   ]
  },
  {
   "cell_type": "code",
   "execution_count": 58,
   "metadata": {},
   "outputs": [
    {
     "data": {
      "text/html": [
       "<div>\n",
       "<style scoped>\n",
       "    .dataframe tbody tr th:only-of-type {\n",
       "        vertical-align: middle;\n",
       "    }\n",
       "\n",
       "    .dataframe tbody tr th {\n",
       "        vertical-align: top;\n",
       "    }\n",
       "\n",
       "    .dataframe thead th {\n",
       "        text-align: right;\n",
       "    }\n",
       "</style>\n",
       "<table border=\"1\" class=\"dataframe\">\n",
       "  <thead>\n",
       "    <tr style=\"text-align: right;\">\n",
       "      <th></th>\n",
       "      <th>id_img</th>\n",
       "      <th>path</th>\n",
       "      <th>Imagenes</th>\n",
       "    </tr>\n",
       "  </thead>\n",
       "  <tbody>\n",
       "    <tr>\n",
       "      <th>0</th>\n",
       "      <td>10052</td>\n",
       "      <td>../data/images/test\\10052.jpg</td>\n",
       "      <td>[[0.22745098039215686, 0.25882352941176473, 0....</td>\n",
       "    </tr>\n",
       "    <tr>\n",
       "      <th>1</th>\n",
       "      <td>10065</td>\n",
       "      <td>../data/images/test\\10065.jpg</td>\n",
       "      <td>[[0.09019607843137255, 0.10196078431372549, 0....</td>\n",
       "    </tr>\n",
       "    <tr>\n",
       "      <th>2</th>\n",
       "      <td>10079</td>\n",
       "      <td>../data/images/test\\10079.jpg</td>\n",
       "      <td>[[0.788235294117647, 0.7137254901960784, 0.713...</td>\n",
       "    </tr>\n",
       "    <tr>\n",
       "      <th>3</th>\n",
       "      <td>10095</td>\n",
       "      <td>../data/images/test\\10095.jpg</td>\n",
       "      <td>[[0.36470588235294116, 0.33725490196078434, 0....</td>\n",
       "    </tr>\n",
       "    <tr>\n",
       "      <th>4</th>\n",
       "      <td>10121</td>\n",
       "      <td>../data/images/test\\10121.jpg</td>\n",
       "      <td>[[0.043137254901960784, 0.023529411764705882, ...</td>\n",
       "    </tr>\n",
       "    <tr>\n",
       "      <th>...</th>\n",
       "      <td>...</td>\n",
       "      <td>...</td>\n",
       "      <td>...</td>\n",
       "    </tr>\n",
       "    <tr>\n",
       "      <th>7061</th>\n",
       "      <td>9806</td>\n",
       "      <td>../data/images/test\\9806.jpg</td>\n",
       "      <td>[[1.0, 0.9921568627450981, 1.0, 1.0, 0.9921568...</td>\n",
       "    </tr>\n",
       "    <tr>\n",
       "      <th>7062</th>\n",
       "      <td>9830</td>\n",
       "      <td>../data/images/test\\9830.jpg</td>\n",
       "      <td>[[0.32941176470588235, 0.2784313725490196, 0.2...</td>\n",
       "    </tr>\n",
       "    <tr>\n",
       "      <th>7063</th>\n",
       "      <td>9853</td>\n",
       "      <td>../data/images/test\\9853.jpg</td>\n",
       "      <td>[[0.9803921568627451, 0.9921568627450981, 0.99...</td>\n",
       "    </tr>\n",
       "    <tr>\n",
       "      <th>7064</th>\n",
       "      <td>9878</td>\n",
       "      <td>../data/images/test\\9878.jpg</td>\n",
       "      <td>[[0.8941176470588236, 0.8784313725490196, 0.89...</td>\n",
       "    </tr>\n",
       "    <tr>\n",
       "      <th>7065</th>\n",
       "      <td>993</td>\n",
       "      <td>../data/images/test\\993.jpg</td>\n",
       "      <td>[[0.3058823529411765, 0.4549019607843137, 0.38...</td>\n",
       "    </tr>\n",
       "  </tbody>\n",
       "</table>\n",
       "<p>7066 rows × 3 columns</p>\n",
       "</div>"
      ],
      "text/plain": [
       "      id_img                           path  \\\n",
       "0      10052  ../data/images/test\\10052.jpg   \n",
       "1      10065  ../data/images/test\\10065.jpg   \n",
       "2      10079  ../data/images/test\\10079.jpg   \n",
       "3      10095  ../data/images/test\\10095.jpg   \n",
       "4      10121  ../data/images/test\\10121.jpg   \n",
       "...      ...                            ...   \n",
       "7061    9806   ../data/images/test\\9806.jpg   \n",
       "7062    9830   ../data/images/test\\9830.jpg   \n",
       "7063    9853   ../data/images/test\\9853.jpg   \n",
       "7064    9878   ../data/images/test\\9878.jpg   \n",
       "7065     993    ../data/images/test\\993.jpg   \n",
       "\n",
       "                                               Imagenes  \n",
       "0     [[0.22745098039215686, 0.25882352941176473, 0....  \n",
       "1     [[0.09019607843137255, 0.10196078431372549, 0....  \n",
       "2     [[0.788235294117647, 0.7137254901960784, 0.713...  \n",
       "3     [[0.36470588235294116, 0.33725490196078434, 0....  \n",
       "4     [[0.043137254901960784, 0.023529411764705882, ...  \n",
       "...                                                 ...  \n",
       "7061  [[1.0, 0.9921568627450981, 1.0, 1.0, 0.9921568...  \n",
       "7062  [[0.32941176470588235, 0.2784313725490196, 0.2...  \n",
       "7063  [[0.9803921568627451, 0.9921568627450981, 0.99...  \n",
       "7064  [[0.8941176470588236, 0.8784313725490196, 0.89...  \n",
       "7065  [[0.3058823529411765, 0.4549019607843137, 0.38...  \n",
       "\n",
       "[7066 rows x 3 columns]"
      ]
     },
     "execution_count": 58,
     "metadata": {},
     "output_type": "execute_result"
    }
   ],
   "source": [
    "test"
   ]
  },
  {
   "cell_type": "code",
   "execution_count": 11,
   "metadata": {},
   "outputs": [],
   "source": [
    "from sklearn.preprocessing import LabelEncoder\n",
    "label_encoder = LabelEncoder()\n",
    "train['label_encoded'] = label_encoder.fit_transform(train['label'])"
   ]
  },
  {
   "cell_type": "code",
   "execution_count": 12,
   "metadata": {},
   "outputs": [
    {
     "data": {
      "text/plain": [
       "array([0, 1, 2, 3, 4, 5, 6])"
      ]
     },
     "execution_count": 12,
     "metadata": {},
     "output_type": "execute_result"
    }
   ],
   "source": [
    "train['label_encoded'].unique()"
   ]
  },
  {
   "cell_type": "code",
   "execution_count": 13,
   "metadata": {},
   "outputs": [
    {
     "data": {
      "text/html": [
       "<div>\n",
       "<style scoped>\n",
       "    .dataframe tbody tr th:only-of-type {\n",
       "        vertical-align: middle;\n",
       "    }\n",
       "\n",
       "    .dataframe tbody tr th {\n",
       "        vertical-align: top;\n",
       "    }\n",
       "\n",
       "    .dataframe thead th {\n",
       "        text-align: right;\n",
       "    }\n",
       "</style>\n",
       "<table border=\"1\" class=\"dataframe\">\n",
       "  <thead>\n",
       "    <tr style=\"text-align: right;\">\n",
       "      <th></th>\n",
       "      <th>id_img</th>\n",
       "      <th>path</th>\n",
       "      <th>label</th>\n",
       "      <th>Imagenes</th>\n",
       "      <th>label_encoded</th>\n",
       "    </tr>\n",
       "  </thead>\n",
       "  <tbody>\n",
       "    <tr>\n",
       "      <th>25616</th>\n",
       "      <td>10007</td>\n",
       "      <td>../data/images/train/surprise\\10007.jpg</td>\n",
       "      <td>surprise</td>\n",
       "      <td>[[0.47843137254901963, 0.592156862745098, 0.63...</td>\n",
       "      <td>6</td>\n",
       "    </tr>\n",
       "    <tr>\n",
       "      <th>25617</th>\n",
       "      <td>10009</td>\n",
       "      <td>../data/images/train/surprise\\10009.jpg</td>\n",
       "      <td>surprise</td>\n",
       "      <td>[[0.6941176470588235, 0.3568627450980392, 0.42...</td>\n",
       "      <td>6</td>\n",
       "    </tr>\n",
       "    <tr>\n",
       "      <th>25618</th>\n",
       "      <td>10011</td>\n",
       "      <td>../data/images/train/surprise\\10011.jpg</td>\n",
       "      <td>surprise</td>\n",
       "      <td>[[0.788235294117647, 0.4196078431372549, 0.247...</td>\n",
       "      <td>6</td>\n",
       "    </tr>\n",
       "    <tr>\n",
       "      <th>25619</th>\n",
       "      <td>10013</td>\n",
       "      <td>../data/images/train/surprise\\10013.jpg</td>\n",
       "      <td>surprise</td>\n",
       "      <td>[[1.0, 1.0, 1.0, 0.9882352941176471, 0.9960784...</td>\n",
       "      <td>6</td>\n",
       "    </tr>\n",
       "    <tr>\n",
       "      <th>25620</th>\n",
       "      <td>10061</td>\n",
       "      <td>../data/images/train/surprise\\10061.jpg</td>\n",
       "      <td>surprise</td>\n",
       "      <td>[[0.9490196078431372, 0.7568627450980392, 0.41...</td>\n",
       "      <td>6</td>\n",
       "    </tr>\n",
       "    <tr>\n",
       "      <th>...</th>\n",
       "      <td>...</td>\n",
       "      <td>...</td>\n",
       "      <td>...</td>\n",
       "      <td>...</td>\n",
       "      <td>...</td>\n",
       "    </tr>\n",
       "    <tr>\n",
       "      <th>28816</th>\n",
       "      <td>9969</td>\n",
       "      <td>../data/images/train/surprise\\9969.jpg</td>\n",
       "      <td>surprise</td>\n",
       "      <td>[[0.0, 0.0, 0.0, 0.0, 0.0, 0.0, 0.0, 0.0, 0.00...</td>\n",
       "      <td>6</td>\n",
       "    </tr>\n",
       "    <tr>\n",
       "      <th>28817</th>\n",
       "      <td>9985</td>\n",
       "      <td>../data/images/train/surprise\\9985.jpg</td>\n",
       "      <td>surprise</td>\n",
       "      <td>[[0.5098039215686274, 0.5254901960784314, 0.51...</td>\n",
       "      <td>6</td>\n",
       "    </tr>\n",
       "    <tr>\n",
       "      <th>28818</th>\n",
       "      <td>9990</td>\n",
       "      <td>../data/images/train/surprise\\9990.jpg</td>\n",
       "      <td>surprise</td>\n",
       "      <td>[[0.9529411764705882, 0.8627450980392157, 0.81...</td>\n",
       "      <td>6</td>\n",
       "    </tr>\n",
       "    <tr>\n",
       "      <th>28819</th>\n",
       "      <td>9992</td>\n",
       "      <td>../data/images/train/surprise\\9992.jpg</td>\n",
       "      <td>surprise</td>\n",
       "      <td>[[0.9921568627450981, 0.9882352941176471, 0.99...</td>\n",
       "      <td>6</td>\n",
       "    </tr>\n",
       "    <tr>\n",
       "      <th>28820</th>\n",
       "      <td>9996</td>\n",
       "      <td>../data/images/train/surprise\\9996.jpg</td>\n",
       "      <td>surprise</td>\n",
       "      <td>[[0.8352941176470589, 0.8549019607843137, 0.83...</td>\n",
       "      <td>6</td>\n",
       "    </tr>\n",
       "  </tbody>\n",
       "</table>\n",
       "<p>3205 rows × 5 columns</p>\n",
       "</div>"
      ],
      "text/plain": [
       "       id_img                                     path     label  \\\n",
       "25616   10007  ../data/images/train/surprise\\10007.jpg  surprise   \n",
       "25617   10009  ../data/images/train/surprise\\10009.jpg  surprise   \n",
       "25618   10011  ../data/images/train/surprise\\10011.jpg  surprise   \n",
       "25619   10013  ../data/images/train/surprise\\10013.jpg  surprise   \n",
       "25620   10061  ../data/images/train/surprise\\10061.jpg  surprise   \n",
       "...       ...                                      ...       ...   \n",
       "28816    9969   ../data/images/train/surprise\\9969.jpg  surprise   \n",
       "28817    9985   ../data/images/train/surprise\\9985.jpg  surprise   \n",
       "28818    9990   ../data/images/train/surprise\\9990.jpg  surprise   \n",
       "28819    9992   ../data/images/train/surprise\\9992.jpg  surprise   \n",
       "28820    9996   ../data/images/train/surprise\\9996.jpg  surprise   \n",
       "\n",
       "                                                Imagenes  label_encoded  \n",
       "25616  [[0.47843137254901963, 0.592156862745098, 0.63...              6  \n",
       "25617  [[0.6941176470588235, 0.3568627450980392, 0.42...              6  \n",
       "25618  [[0.788235294117647, 0.4196078431372549, 0.247...              6  \n",
       "25619  [[1.0, 1.0, 1.0, 0.9882352941176471, 0.9960784...              6  \n",
       "25620  [[0.9490196078431372, 0.7568627450980392, 0.41...              6  \n",
       "...                                                  ...            ...  \n",
       "28816  [[0.0, 0.0, 0.0, 0.0, 0.0, 0.0, 0.0, 0.0, 0.00...              6  \n",
       "28817  [[0.5098039215686274, 0.5254901960784314, 0.51...              6  \n",
       "28818  [[0.9529411764705882, 0.8627450980392157, 0.81...              6  \n",
       "28819  [[0.9921568627450981, 0.9882352941176471, 0.99...              6  \n",
       "28820  [[0.8352941176470589, 0.8549019607843137, 0.83...              6  \n",
       "\n",
       "[3205 rows x 5 columns]"
      ]
     },
     "execution_count": 13,
     "metadata": {},
     "output_type": "execute_result"
    }
   ],
   "source": [
    "train [train['label_encoded']== 6]"
   ]
  },
  {
   "cell_type": "code",
   "execution_count": 14,
   "metadata": {},
   "outputs": [],
   "source": [
    "train = train.sample(frac=1).reset_index(drop=True)"
   ]
  },
  {
   "cell_type": "code",
   "execution_count": 15,
   "metadata": {},
   "outputs": [
    {
     "data": {
      "text/html": [
       "<div>\n",
       "<style scoped>\n",
       "    .dataframe tbody tr th:only-of-type {\n",
       "        vertical-align: middle;\n",
       "    }\n",
       "\n",
       "    .dataframe tbody tr th {\n",
       "        vertical-align: top;\n",
       "    }\n",
       "\n",
       "    .dataframe thead th {\n",
       "        text-align: right;\n",
       "    }\n",
       "</style>\n",
       "<table border=\"1\" class=\"dataframe\">\n",
       "  <thead>\n",
       "    <tr style=\"text-align: right;\">\n",
       "      <th></th>\n",
       "      <th>id_img</th>\n",
       "      <th>path</th>\n",
       "      <th>label</th>\n",
       "      <th>Imagenes</th>\n",
       "      <th>label_encoded</th>\n",
       "    </tr>\n",
       "  </thead>\n",
       "  <tbody>\n",
       "    <tr>\n",
       "      <th>0</th>\n",
       "      <td>16538</td>\n",
       "      <td>../data/images/train/surprise\\16538.jpg</td>\n",
       "      <td>surprise</td>\n",
       "      <td>[[0.3803921568627451, 0.3764705882352941, 0.34...</td>\n",
       "      <td>6</td>\n",
       "    </tr>\n",
       "    <tr>\n",
       "      <th>1</th>\n",
       "      <td>14860</td>\n",
       "      <td>../data/images/train/fear\\14860.jpg</td>\n",
       "      <td>fear</td>\n",
       "      <td>[[0.49019607843137253, 0.44313725490196076, 0....</td>\n",
       "      <td>2</td>\n",
       "    </tr>\n",
       "    <tr>\n",
       "      <th>2</th>\n",
       "      <td>24276</td>\n",
       "      <td>../data/images/train/sad\\24276.jpg</td>\n",
       "      <td>sad</td>\n",
       "      <td>[[0.21568627450980393, 0.2196078431372549, 0.2...</td>\n",
       "      <td>5</td>\n",
       "    </tr>\n",
       "    <tr>\n",
       "      <th>3</th>\n",
       "      <td>29449</td>\n",
       "      <td>../data/images/train/neutral\\29449.jpg</td>\n",
       "      <td>neutral</td>\n",
       "      <td>[[0.12156862745098039, 0.3333333333333333, 0.2...</td>\n",
       "      <td>4</td>\n",
       "    </tr>\n",
       "    <tr>\n",
       "      <th>4</th>\n",
       "      <td>24818</td>\n",
       "      <td>../data/images/train/sad\\24818.jpg</td>\n",
       "      <td>sad</td>\n",
       "      <td>[[0.8588235294117647, 0.8666666666666667, 0.89...</td>\n",
       "      <td>5</td>\n",
       "    </tr>\n",
       "    <tr>\n",
       "      <th>...</th>\n",
       "      <td>...</td>\n",
       "      <td>...</td>\n",
       "      <td>...</td>\n",
       "      <td>...</td>\n",
       "      <td>...</td>\n",
       "    </tr>\n",
       "    <tr>\n",
       "      <th>28816</th>\n",
       "      <td>7062</td>\n",
       "      <td>../data/images/train/happy\\7062.jpg</td>\n",
       "      <td>happy</td>\n",
       "      <td>[[0.7098039215686275, 0.6705882352941176, 0.67...</td>\n",
       "      <td>3</td>\n",
       "    </tr>\n",
       "    <tr>\n",
       "      <th>28817</th>\n",
       "      <td>20099</td>\n",
       "      <td>../data/images/train/fear\\20099.jpg</td>\n",
       "      <td>fear</td>\n",
       "      <td>[[1.0, 0.9686274509803922, 0.9725490196078431,...</td>\n",
       "      <td>2</td>\n",
       "    </tr>\n",
       "    <tr>\n",
       "      <th>28818</th>\n",
       "      <td>18738</td>\n",
       "      <td>../data/images/train/sad\\18738.jpg</td>\n",
       "      <td>sad</td>\n",
       "      <td>[[0.17647058823529413, 0.21568627450980393, 0....</td>\n",
       "      <td>5</td>\n",
       "    </tr>\n",
       "    <tr>\n",
       "      <th>28819</th>\n",
       "      <td>154</td>\n",
       "      <td>../data/images/train/sad\\154.jpg</td>\n",
       "      <td>sad</td>\n",
       "      <td>[[0.19215686274509805, 0.2901960784313726, 0.3...</td>\n",
       "      <td>5</td>\n",
       "    </tr>\n",
       "    <tr>\n",
       "      <th>28820</th>\n",
       "      <td>17824</td>\n",
       "      <td>../data/images/train/neutral\\17824.jpg</td>\n",
       "      <td>neutral</td>\n",
       "      <td>[[1.0, 1.0, 1.0, 1.0, 1.0, 1.0, 1.0, 1.0, 1.0,...</td>\n",
       "      <td>4</td>\n",
       "    </tr>\n",
       "  </tbody>\n",
       "</table>\n",
       "<p>28821 rows × 5 columns</p>\n",
       "</div>"
      ],
      "text/plain": [
       "       id_img                                     path     label  \\\n",
       "0       16538  ../data/images/train/surprise\\16538.jpg  surprise   \n",
       "1       14860      ../data/images/train/fear\\14860.jpg      fear   \n",
       "2       24276       ../data/images/train/sad\\24276.jpg       sad   \n",
       "3       29449   ../data/images/train/neutral\\29449.jpg   neutral   \n",
       "4       24818       ../data/images/train/sad\\24818.jpg       sad   \n",
       "...       ...                                      ...       ...   \n",
       "28816    7062      ../data/images/train/happy\\7062.jpg     happy   \n",
       "28817   20099      ../data/images/train/fear\\20099.jpg      fear   \n",
       "28818   18738       ../data/images/train/sad\\18738.jpg       sad   \n",
       "28819     154         ../data/images/train/sad\\154.jpg       sad   \n",
       "28820   17824   ../data/images/train/neutral\\17824.jpg   neutral   \n",
       "\n",
       "                                                Imagenes  label_encoded  \n",
       "0      [[0.3803921568627451, 0.3764705882352941, 0.34...              6  \n",
       "1      [[0.49019607843137253, 0.44313725490196076, 0....              2  \n",
       "2      [[0.21568627450980393, 0.2196078431372549, 0.2...              5  \n",
       "3      [[0.12156862745098039, 0.3333333333333333, 0.2...              4  \n",
       "4      [[0.8588235294117647, 0.8666666666666667, 0.89...              5  \n",
       "...                                                  ...            ...  \n",
       "28816  [[0.7098039215686275, 0.6705882352941176, 0.67...              3  \n",
       "28817  [[1.0, 0.9686274509803922, 0.9725490196078431,...              2  \n",
       "28818  [[0.17647058823529413, 0.21568627450980393, 0....              5  \n",
       "28819  [[0.19215686274509805, 0.2901960784313726, 0.3...              5  \n",
       "28820  [[1.0, 1.0, 1.0, 1.0, 1.0, 1.0, 1.0, 1.0, 1.0,...              4  \n",
       "\n",
       "[28821 rows x 5 columns]"
      ]
     },
     "execution_count": 15,
     "metadata": {},
     "output_type": "execute_result"
    }
   ],
   "source": [
    "train"
   ]
  },
  {
   "cell_type": "code",
   "execution_count": 16,
   "metadata": {},
   "outputs": [
    {
     "data": {
      "text/plain": [
       "label\n",
       "happy       0.248569\n",
       "neutral     0.172860\n",
       "sad         0.171333\n",
       "fear        0.142361\n",
       "angry       0.138545\n",
       "surprise    0.111204\n",
       "disgust     0.015128\n",
       "Name: proportion, dtype: float64"
      ]
     },
     "execution_count": 16,
     "metadata": {},
     "output_type": "execute_result"
    }
   ],
   "source": [
    "train['label'].value_counts(normalize=True)"
   ]
  },
  {
   "cell_type": "code",
   "execution_count": 17,
   "metadata": {},
   "outputs": [
    {
     "data": {
      "text/plain": [
       "label\n",
       "happy       7164\n",
       "neutral     4982\n",
       "sad         4938\n",
       "fear        4103\n",
       "angry       3993\n",
       "surprise    3205\n",
       "disgust      436\n",
       "Name: count, dtype: int64"
      ]
     },
     "execution_count": 17,
     "metadata": {},
     "output_type": "execute_result"
    }
   ],
   "source": [
    "train['label'].value_counts()"
   ]
  },
  {
   "cell_type": "code",
   "execution_count": 18,
   "metadata": {},
   "outputs": [],
   "source": [
    "X_train = np.stack(train['Imagenes'].values)\n",
    "y_train = np.array(train['label_encoded'])\n",
    "X_test = np.stack(test['Imagenes'].values)"
   ]
  },
  {
   "cell_type": "code",
   "execution_count": 19,
   "metadata": {},
   "outputs": [
    {
     "name": "stdout",
     "output_type": "stream",
     "text": [
      "(28821, 48, 48)\n",
      "(28821,)\n",
      "(7066, 48, 48)\n"
     ]
    }
   ],
   "source": [
    "print (X_train.shape)\n",
    "print (y_train.shape)\n",
    "print (X_test.shape)"
   ]
  },
  {
   "cell_type": "code",
   "execution_count": 20,
   "metadata": {},
   "outputs": [],
   "source": [
    "X_train = np.expand_dims(X_train, -1)\n",
    "X_test = np.expand_dims(X_test, -1)"
   ]
  },
  {
   "cell_type": "code",
   "execution_count": 21,
   "metadata": {},
   "outputs": [
    {
     "name": "stdout",
     "output_type": "stream",
     "text": [
      "(28821, 48, 48, 1)\n",
      "(28821,)\n",
      "(7066, 48, 48, 1)\n"
     ]
    }
   ],
   "source": [
    "print (X_train.shape)\n",
    "print (y_train.shape)\n",
    "print (X_test.shape)"
   ]
  },
  {
   "cell_type": "code",
   "execution_count": 22,
   "metadata": {},
   "outputs": [],
   "source": [
    "# model = keras.Sequential([\n",
    "#     keras.layers.Conv2D(64, (3,3), activation=\"relu\", input_shape=(IMAGE_SIZE)),\n",
    "#     keras.layers.MaxPooling2D(2,2),\n",
    "#     keras.layers.Conv2D(32, (3,3), activation=\"relu\"),\n",
    "#     keras.layers.MaxPooling2D(2,2),\n",
    "#     keras.layers.Flatten(),\n",
    "#     keras.layers.Dense(64, activation=\"relu\"),\n",
    "#     keras.layers.Dense(16, activation=\"relu\"),\n",
    "#     keras.layers.Dense(7, activation=\"softmax\")\n",
    "# ])"
   ]
  },
  {
   "cell_type": "code",
   "execution_count": 23,
   "metadata": {},
   "outputs": [],
   "source": [
    "# model.compile(optimizer='adam',\n",
    "#               loss=\"sparse_categorical_crossentropy\",\n",
    "#               metrics=['accuracy'])"
   ]
  },
  {
   "cell_type": "code",
   "execution_count": 24,
   "metadata": {},
   "outputs": [],
   "source": [
    "# history = model.fit(X_train,\n",
    "#                     y_train,\n",
    "#                     batch_size=BATCH_SIZE,\n",
    "#                     epochs=EPOCHS,\n",
    "#                     validation_split=0.2)"
   ]
  },
  {
   "cell_type": "code",
   "execution_count": 25,
   "metadata": {},
   "outputs": [
    {
     "name": "stdout",
     "output_type": "stream",
     "text": [
      "WARNING:tensorflow:From c:\\Users\\danie\\AppData\\Local\\Programs\\Python\\Python311\\Lib\\site-packages\\keras\\src\\backend.py:873: The name tf.get_default_graph is deprecated. Please use tf.compat.v1.get_default_graph instead.\n",
      "\n",
      "WARNING:tensorflow:From c:\\Users\\danie\\AppData\\Local\\Programs\\Python\\Python311\\Lib\\site-packages\\keras\\src\\layers\\pooling\\max_pooling2d.py:161: The name tf.nn.max_pool is deprecated. Please use tf.nn.max_pool2d instead.\n",
      "\n",
      "WARNING:tensorflow:From c:\\Users\\danie\\AppData\\Local\\Programs\\Python\\Python311\\Lib\\site-packages\\keras\\src\\optimizers\\__init__.py:309: The name tf.train.Optimizer is deprecated. Please use tf.compat.v1.train.Optimizer instead.\n",
      "\n"
     ]
    }
   ],
   "source": [
    "model_2 = keras.Sequential([\n",
    "    keras.layers.Conv2D(64, (3,3), activation=\"relu\", input_shape=(IMAGE_SIZE)),\n",
    "    keras.layers.MaxPooling2D(2,2),\n",
    "    keras.layers.Conv2D(32, (3,3), activation=\"relu\"),\n",
    "    keras.layers.MaxPooling2D(2,2),\n",
    "    keras.layers.Flatten(),\n",
    "    keras.layers.Dense(64, activation=\"relu\"),\n",
    "    keras.layers.Dense(16, activation=\"relu\"),\n",
    "    keras.layers.Dense(7, activation=\"softmax\")\n",
    "    \n",
    "])\n",
    "\n",
    "model_2.compile(optimizer='adam',\n",
    "              loss=\"sparse_categorical_crossentropy\",\n",
    "              metrics=['accuracy'])"
   ]
  },
  {
   "cell_type": "code",
   "execution_count": 26,
   "metadata": {},
   "outputs": [
    {
     "name": "stdout",
     "output_type": "stream",
     "text": [
      "Epoch 1/7\n",
      "WARNING:tensorflow:From c:\\Users\\danie\\AppData\\Local\\Programs\\Python\\Python311\\Lib\\site-packages\\keras\\src\\utils\\tf_utils.py:492: The name tf.ragged.RaggedTensorValue is deprecated. Please use tf.compat.v1.ragged.RaggedTensorValue instead.\n",
      "\n",
      "WARNING:tensorflow:From c:\\Users\\danie\\AppData\\Local\\Programs\\Python\\Python311\\Lib\\site-packages\\keras\\src\\engine\\base_layer_utils.py:384: The name tf.executing_eagerly_outside_functions is deprecated. Please use tf.compat.v1.executing_eagerly_outside_functions instead.\n",
      "\n",
      "721/721 [==============================] - 9s 12ms/step - loss: 1.7066 - accuracy: 0.3168 - val_loss: 1.5995 - val_accuracy: 0.3717\n",
      "Epoch 2/7\n",
      "721/721 [==============================] - 9s 12ms/step - loss: 1.4961 - accuracy: 0.4261 - val_loss: 1.4669 - val_accuracy: 0.4286\n",
      "Epoch 3/7\n",
      "721/721 [==============================] - 9s 12ms/step - loss: 1.3989 - accuracy: 0.4635 - val_loss: 1.4154 - val_accuracy: 0.4500\n",
      "Epoch 4/7\n",
      "721/721 [==============================] - 9s 12ms/step - loss: 1.3327 - accuracy: 0.4864 - val_loss: 1.4147 - val_accuracy: 0.4676\n",
      "Epoch 5/7\n",
      "721/721 [==============================] - 9s 12ms/step - loss: 1.2832 - accuracy: 0.5081 - val_loss: 1.3628 - val_accuracy: 0.4814\n",
      "Epoch 6/7\n",
      "721/721 [==============================] - 9s 12ms/step - loss: 1.2403 - accuracy: 0.5262 - val_loss: 1.3513 - val_accuracy: 0.4834\n",
      "Epoch 7/7\n",
      "721/721 [==============================] - 9s 12ms/step - loss: 1.1996 - accuracy: 0.5421 - val_loss: 1.3786 - val_accuracy: 0.4756\n"
     ]
    }
   ],
   "source": [
    "history_2 = model_2.fit(X_train,\n",
    "                    y_train,\n",
    "                    batch_size=BATCH_SIZE,\n",
    "                    epochs=7,\n",
    "                    callbacks = earlystop,\n",
    "                    validation_split=0.2)"
   ]
  },
  {
   "cell_type": "code",
   "execution_count": 27,
   "metadata": {},
   "outputs": [
    {
     "name": "stdout",
     "output_type": "stream",
     "text": [
      "Epoch 1/3\n",
      "721/721 [==============================] - 9s 12ms/step - loss: 1.1643 - accuracy: 0.5553 - val_loss: 1.3438 - val_accuracy: 0.4888\n",
      "Epoch 2/3\n",
      "721/721 [==============================] - 9s 12ms/step - loss: 1.1273 - accuracy: 0.5708 - val_loss: 1.3391 - val_accuracy: 0.4984\n",
      "Epoch 3/3\n",
      "721/721 [==============================] - 9s 12ms/step - loss: 1.0979 - accuracy: 0.5825 - val_loss: 1.3736 - val_accuracy: 0.4945\n"
     ]
    }
   ],
   "source": [
    "history_2 = model_2.fit(X_train,\n",
    "                    y_train,\n",
    "                    batch_size=BATCH_SIZE,\n",
    "                    epochs=3,\n",
    "                    callbacks = earlystop,\n",
    "                    validation_split=0.2)"
   ]
  },
  {
   "cell_type": "code",
   "execution_count": 28,
   "metadata": {},
   "outputs": [],
   "source": [
    "loss = history_2.history['loss']\n",
    "val_loss = history_2.history['val_loss']"
   ]
  },
  {
   "cell_type": "code",
   "execution_count": 29,
   "metadata": {},
   "outputs": [],
   "source": [
    "best_epoch = val_loss.index(min(val_loss)) + 1"
   ]
  },
  {
   "cell_type": "code",
   "execution_count": 30,
   "metadata": {},
   "outputs": [
    {
     "data": {
      "image/png": "[encoded data removed]",
      "text/plain": [
       "<Figure size 1200x500 with 2 Axes>"
      ]
     },
     "metadata": {},
     "output_type": "display_data"
    }
   ],
   "source": [
    "# Acceder a los datos del historial\n",
    "loss = history_2.history['loss']\n",
    "val_loss = history_2.history['val_loss']\n",
    "accuracy = history_2.history['accuracy']  # Cambia 'accuracy' por la métrica que usaste\n",
    "val_accuracy = history_2.history['val_accuracy']  # Ídem\n",
    "\n",
    "# Crear gráficos para pérdida y precisión\n",
    "plt.figure(figsize=(12, 5))\n",
    "\n",
    "plt.subplot(1, 2, 1)\n",
    "plt.plot(loss, label='Training Loss')\n",
    "plt.plot(val_loss, label='Validation Loss')\n",
    "plt.title('Training and Validation Loss')\n",
    "plt.legend()\n",
    "\n",
    "plt.subplot(1, 2, 2)\n",
    "plt.plot(accuracy, label='Training Accuracy')\n",
    "plt.plot(val_accuracy, label='Validation Accuracy')\n",
    "plt.title('Training and Validation Accuracy')\n",
    "plt.legend()\n",
    "\n",
    "plt.show()"
   ]
  },
  {
   "cell_type": "code",
   "execution_count": 31,
   "metadata": {},
   "outputs": [
    {
     "name": "stdout",
     "output_type": "stream",
     "text": [
      "221/221 [==============================] - 1s 3ms/step\n"
     ]
    }
   ],
   "source": [
    "y_pred_2 = model_2.predict(X_test)"
   ]
  },
  {
   "cell_type": "code",
   "execution_count": 32,
   "metadata": {},
   "outputs": [],
   "source": [
    "# layers = [\n",
    "#     keras.layers.Conv2D(32, (3,3), activation='relu', input_shape=IMAGE_SIZE),\n",
    "#     keras.layers.MaxPooling2D(pool_size=(2,2)),\n",
    "    \n",
    "#     keras.layers.Conv2D(64, (3,3), activation='relu'),\n",
    "#     keras.layers.MaxPooling2D(pool_size=(2,2)),\n",
    "    \n",
    "#     keras.layers.Flatten(),\n",
    "    \n",
    "#     keras.layers.Dense(64, activation='relu', kernel_regularizer=regularizers.l2(0.001)),\n",
    "#     keras.layers.Dropout(0.5),\n",
    "    \n",
    "#     keras.layers.Dense(32, activation='relu', kernel_regularizer=regularizers.l2(0.001)),\n",
    "#     keras.layers.Dropout(0.5),\n",
    "    \n",
    "#     keras.layers.Dense(7, activation='softmax')\n",
    "# ]\n",
    "\n",
    "# model_3 = keras.Sequential(layers)\n",
    "# model_3.compile(optimizer=optimizer,\n",
    "#                 loss='sparse_categorical_crossentropy',\n",
    "#                 metrics=['accuracy'])"
   ]
  },
  {
   "cell_type": "code",
   "execution_count": 33,
   "metadata": {},
   "outputs": [],
   "source": [
    "# history_3 = model_3.fit(X_train,\n",
    "#                     y_train,\n",
    "#                     batch_size=BATCH_SIZE,\n",
    "#                     epochs=9,\n",
    "#                     callbacks = earlystop,\n",
    "#                     validation_split=0.2)"
   ]
  },
  {
   "cell_type": "code",
   "execution_count": 34,
   "metadata": {},
   "outputs": [],
   "source": [
    "# loss_2 = history_3.history['loss']\n",
    "# val_loss_2 = history_3.history['val_loss']"
   ]
  },
  {
   "cell_type": "code",
   "execution_count": 35,
   "metadata": {},
   "outputs": [],
   "source": [
    "# best_epoch = val_loss_2.index(min(val_loss_2)) + 1"
   ]
  },
  {
   "cell_type": "code",
   "execution_count": 36,
   "metadata": {},
   "outputs": [],
   "source": [
    "# y_pred_3 = model_3.predict(X_test)"
   ]
  },
  {
   "cell_type": "code",
   "execution_count": 37,
   "metadata": {},
   "outputs": [
    {
     "data": {
      "text/plain": [
       "array([0.09929428, 0.00097464, 0.06120787, 0.16931038, 0.53212386,\n",
       "       0.13398148, 0.00310754], dtype=float32)"
      ]
     },
     "execution_count": 37,
     "metadata": {},
     "output_type": "execute_result"
    }
   ],
   "source": [
    "y_pred_2[0]"
   ]
  },
  {
   "cell_type": "code",
   "execution_count": 38,
   "metadata": {},
   "outputs": [
    {
     "data": {
      "text/plain": [
       "array([4, 2, 4, ..., 0, 4, 2], dtype=int64)"
      ]
     },
     "execution_count": 38,
     "metadata": {},
     "output_type": "execute_result"
    }
   ],
   "source": [
    "pred_labels2 = np.argmax(y_pred_2, axis=1)\n",
    "pred_labels2"
   ]
  },
  {
   "cell_type": "code",
   "execution_count": 39,
   "metadata": {},
   "outputs": [],
   "source": [
    "submi_2 = label_encoder.inverse_transform(pred_labels2)\n",
    "pred_labels2 = np.argmax(y_pred_2, axis=1)\n",
    "pred_labels2\n",
    "submission_1 = pd.DataFrame({'id_img': test['id_img'].values, 'label': submi_2})"
   ]
  },
  {
   "cell_type": "code",
   "execution_count": 40,
   "metadata": {},
   "outputs": [],
   "source": [
    "submission_1 = pd.DataFrame({'id_img': test['id_img'].values, 'label': submi_2})"
   ]
  },
  {
   "cell_type": "code",
   "execution_count": 41,
   "metadata": {},
   "outputs": [
    {
     "data": {
      "text/html": [
       "<div>\n",
       "<style scoped>\n",
       "    .dataframe tbody tr th:only-of-type {\n",
       "        vertical-align: middle;\n",
       "    }\n",
       "\n",
       "    .dataframe tbody tr th {\n",
       "        vertical-align: top;\n",
       "    }\n",
       "\n",
       "    .dataframe thead th {\n",
       "        text-align: right;\n",
       "    }\n",
       "</style>\n",
       "<table border=\"1\" class=\"dataframe\">\n",
       "  <thead>\n",
       "    <tr style=\"text-align: right;\">\n",
       "      <th></th>\n",
       "      <th>id_img</th>\n",
       "      <th>label</th>\n",
       "    </tr>\n",
       "  </thead>\n",
       "  <tbody>\n",
       "    <tr>\n",
       "      <th>0</th>\n",
       "      <td>10052</td>\n",
       "      <td>neutral</td>\n",
       "    </tr>\n",
       "    <tr>\n",
       "      <th>1</th>\n",
       "      <td>10065</td>\n",
       "      <td>fear</td>\n",
       "    </tr>\n",
       "    <tr>\n",
       "      <th>2</th>\n",
       "      <td>10079</td>\n",
       "      <td>neutral</td>\n",
       "    </tr>\n",
       "    <tr>\n",
       "      <th>3</th>\n",
       "      <td>10095</td>\n",
       "      <td>sad</td>\n",
       "    </tr>\n",
       "    <tr>\n",
       "      <th>4</th>\n",
       "      <td>10121</td>\n",
       "      <td>angry</td>\n",
       "    </tr>\n",
       "    <tr>\n",
       "      <th>...</th>\n",
       "      <td>...</td>\n",
       "      <td>...</td>\n",
       "    </tr>\n",
       "    <tr>\n",
       "      <th>7061</th>\n",
       "      <td>9806</td>\n",
       "      <td>surprise</td>\n",
       "    </tr>\n",
       "    <tr>\n",
       "      <th>7062</th>\n",
       "      <td>9830</td>\n",
       "      <td>neutral</td>\n",
       "    </tr>\n",
       "    <tr>\n",
       "      <th>7063</th>\n",
       "      <td>9853</td>\n",
       "      <td>angry</td>\n",
       "    </tr>\n",
       "    <tr>\n",
       "      <th>7064</th>\n",
       "      <td>9878</td>\n",
       "      <td>neutral</td>\n",
       "    </tr>\n",
       "    <tr>\n",
       "      <th>7065</th>\n",
       "      <td>993</td>\n",
       "      <td>fear</td>\n",
       "    </tr>\n",
       "  </tbody>\n",
       "</table>\n",
       "<p>7066 rows × 2 columns</p>\n",
       "</div>"
      ],
      "text/plain": [
       "      id_img     label\n",
       "0      10052   neutral\n",
       "1      10065      fear\n",
       "2      10079   neutral\n",
       "3      10095       sad\n",
       "4      10121     angry\n",
       "...      ...       ...\n",
       "7061    9806  surprise\n",
       "7062    9830   neutral\n",
       "7063    9853     angry\n",
       "7064    9878   neutral\n",
       "7065     993      fear\n",
       "\n",
       "[7066 rows x 2 columns]"
      ]
     },
     "execution_count": 41,
     "metadata": {},
     "output_type": "execute_result"
    }
   ],
   "source": [
    "submission_1"
   ]
  },
  {
   "cell_type": "code",
   "execution_count": 42,
   "metadata": {},
   "outputs": [],
   "source": [
    "submission_1.to_csv('submission_3.csv', index=False)"
   ]
  },
  {
   "cell_type": "code",
   "execution_count": 43,
   "metadata": {},
   "outputs": [],
   "source": [
    "# submission_2.to_csv('submission_2.csv', index=False)\n",
    "# # ESTE VALE MIERDA"
   ]
  },
  {
   "cell_type": "code",
   "execution_count": 44,
   "metadata": {},
   "outputs": [],
   "source": [
    "optimizer = Adam(learning_rate=0.0005) "
   ]
  },
  {
   "cell_type": "code",
   "execution_count": 47,
   "metadata": {},
   "outputs": [],
   "source": [
    "from sklearn.utils.class_weight import compute_class_weight\n",
    "class_labels = np.unique(y_train)\n",
    "pesos_personalizados = {\n",
    "    3: 0.5,      # Menor peso para 'happy'\n",
    "    4: 1.0,    # Peso estándar para 'neutral'\n",
    "    5: 1.0,        # Peso estándar para 'sad'\n",
    "    2: 1.5,       # Peso mayor para 'fear'\n",
    "    0: 1.5,      # Peso mayor para 'angry'\n",
    "    6: 2.0,   # Peso aún mayor para 'surprise'\n",
    "    1: 3.0     # El mayor peso para 'disgust'\n",
    "}\n",
    "\n",
    "class_weight_dict = {label: pesos_personalizados[label] for label in class_labels}\n",
    "\n",
    "# class_weights = compute_class_weight(class_weight_dict, classes=class_labels, y=y_train)"
   ]
  },
  {
   "cell_type": "code",
   "execution_count": 46,
   "metadata": {},
   "outputs": [],
   "source": [
    "model_4 = keras.Sequential([\n",
    "    keras.layers.Conv2D(64, (3,3), activation=\"relu\", input_shape=(IMAGE_SIZE)),\n",
    "    keras.layers.MaxPooling2D(2,2),\n",
    "    \n",
    "    keras.layers.Conv2D(32, (3,3), activation=\"relu\"),\n",
    "    keras.layers.MaxPooling2D(2,2),\n",
    "    \n",
    "    keras.layers.Flatten(),\n",
    "    \n",
    "    keras.layers.Dense(64, activation=\"relu\"),\n",
    "    keras.layers.Dropout(0.2),\n",
    "    \n",
    "    keras.layers.Dense(16, activation=\"relu\"),\n",
    "    keras.layers.Dropout(0.2),\n",
    "    \n",
    "    keras.layers.Dense(7, activation=\"softmax\")\n",
    "    \n",
    "])\n",
    "\n",
    "model_4.compile(optimizer=optimizer,\n",
    "              loss=\"sparse_categorical_crossentropy\",\n",
    "              metrics=['accuracy'])"
   ]
  },
  {
   "cell_type": "code",
   "execution_count": 48,
   "metadata": {},
   "outputs": [
    {
     "name": "stdout",
     "output_type": "stream",
     "text": [
      "Epoch 1/17\n",
      "721/721 [==============================] - 10s 13ms/step - loss: 2.1146 - accuracy: 0.1792 - val_loss: 1.7797 - val_accuracy: 0.2357\n",
      "Epoch 2/17\n",
      "721/721 [==============================] - 9s 12ms/step - loss: 1.9473 - accuracy: 0.2812 - val_loss: 1.7214 - val_accuracy: 0.2883\n",
      "Epoch 3/17\n",
      "721/721 [==============================] - 9s 12ms/step - loss: 1.8609 - accuracy: 0.3499 - val_loss: 1.5703 - val_accuracy: 0.3957\n",
      "Epoch 4/17\n",
      "721/721 [==============================] - 9s 12ms/step - loss: 1.7962 - accuracy: 0.3883 - val_loss: 1.5854 - val_accuracy: 0.3941\n",
      "Epoch 5/17\n",
      "721/721 [==============================] - 9s 12ms/step - loss: 1.7274 - accuracy: 0.4188 - val_loss: 1.5028 - val_accuracy: 0.4337\n",
      "Epoch 6/17\n",
      "721/721 [==============================] - 9s 12ms/step - loss: 1.6670 - accuracy: 0.4421 - val_loss: 1.4596 - val_accuracy: 0.4479\n",
      "Epoch 7/17\n",
      "721/721 [==============================] - 9s 12ms/step - loss: 1.6226 - accuracy: 0.4575 - val_loss: 1.4465 - val_accuracy: 0.4593\n",
      "Epoch 8/17\n",
      "721/721 [==============================] - 9s 12ms/step - loss: 1.5727 - accuracy: 0.4732 - val_loss: 1.4281 - val_accuracy: 0.4609\n",
      "Epoch 9/17\n",
      "721/721 [==============================] - 9s 13ms/step - loss: 1.5395 - accuracy: 0.4847 - val_loss: 1.4084 - val_accuracy: 0.4666\n",
      "Epoch 10/17\n",
      "721/721 [==============================] - 9s 13ms/step - loss: 1.4938 - accuracy: 0.4975 - val_loss: 1.4183 - val_accuracy: 0.4661\n",
      "Epoch 11/17\n",
      "721/721 [==============================] - 9s 12ms/step - loss: 1.4525 - accuracy: 0.5099 - val_loss: 1.4153 - val_accuracy: 0.4605\n",
      "Epoch 12/17\n",
      "721/721 [==============================] - 9s 12ms/step - loss: 1.4150 - accuracy: 0.5208 - val_loss: 1.4342 - val_accuracy: 0.4637\n",
      "Epoch 13/17\n",
      "721/721 [==============================] - 9s 12ms/step - loss: 1.3899 - accuracy: 0.5262 - val_loss: 1.3765 - val_accuracy: 0.4888\n",
      "Epoch 14/17\n",
      "721/721 [==============================] - 9s 12ms/step - loss: 1.3515 - accuracy: 0.5384 - val_loss: 1.3980 - val_accuracy: 0.4784\n",
      "Epoch 15/17\n",
      "721/721 [==============================] - 9s 12ms/step - loss: 1.3188 - accuracy: 0.5522 - val_loss: 1.3822 - val_accuracy: 0.4737\n",
      "Epoch 16/17\n",
      "721/721 [==============================] - 9s 12ms/step - loss: 1.2852 - accuracy: 0.5589 - val_loss: 1.4185 - val_accuracy: 0.4694\n",
      "Epoch 17/17\n",
      "721/721 [==============================] - 9s 12ms/step - loss: 1.2499 - accuracy: 0.5712 - val_loss: 1.3997 - val_accuracy: 0.4800\n"
     ]
    }
   ],
   "source": [
    "history_4 = model_4.fit(X_train,\n",
    "                    y_train,\n",
    "                    class_weight=class_weight_dict,\n",
    "                    batch_size=BATCH_SIZE,\n",
    "                    epochs=20,\n",
    "                    callbacks = earlystop,\n",
    "                    validation_split=0.2)"
   ]
  },
  {
   "cell_type": "code",
   "execution_count": 49,
   "metadata": {},
   "outputs": [
    {
     "name": "stdout",
     "output_type": "stream",
     "text": [
      "Epoch 1/20\n",
      "721/721 [==============================] - 9s 13ms/step - loss: 1.2123 - accuracy: 0.5796 - val_loss: 1.4013 - val_accuracy: 0.4817\n",
      "Epoch 2/20\n",
      "721/721 [==============================] - 9s 12ms/step - loss: 1.1894 - accuracy: 0.5924 - val_loss: 1.3923 - val_accuracy: 0.4895\n",
      "Epoch 3/20\n",
      "721/721 [==============================] - 9s 12ms/step - loss: 1.1556 - accuracy: 0.5995 - val_loss: 1.4465 - val_accuracy: 0.4838\n",
      "Epoch 4/20\n",
      "721/721 [==============================] - 9s 12ms/step - loss: 1.1189 - accuracy: 0.6111 - val_loss: 1.4372 - val_accuracy: 0.4862\n",
      "Epoch 5/20\n",
      "721/721 [==============================] - 9s 13ms/step - loss: 1.0930 - accuracy: 0.6213 - val_loss: 1.5061 - val_accuracy: 0.4770\n",
      "Epoch 6/20\n",
      "721/721 [==============================] - 9s 12ms/step - loss: 1.0649 - accuracy: 0.6266 - val_loss: 1.4921 - val_accuracy: 0.4761\n",
      "Epoch 7/20\n",
      "721/721 [==============================] - 10s 14ms/step - loss: 1.0419 - accuracy: 0.6337 - val_loss: 1.5527 - val_accuracy: 0.4682\n"
     ]
    }
   ],
   "source": [
    "history_4 = model_4.fit(X_train,\n",
    "                    y_train,\n",
    "                    class_weight=class_weight_dict,\n",
    "                    batch_size=BATCH_SIZE,\n",
    "                    epochs=20,\n",
    "                    callbacks = earlystop,\n",
    "                    validation_split=0.2)"
   ]
  },
  {
   "cell_type": "code",
   "execution_count": 51,
   "metadata": {},
   "outputs": [
    {
     "name": "stdout",
     "output_type": "stream",
     "text": [
      "221/221 [==============================] - 1s 3ms/step\n"
     ]
    }
   ],
   "source": [
    "y_pred = model_4.predict(X_test)"
   ]
  },
  {
   "cell_type": "code",
   "execution_count": 52,
   "metadata": {},
   "outputs": [],
   "source": [
    "pred_labels = np.argmax(y_pred, axis=1)\n",
    "pred_labels\n",
    "submi = label_encoder.inverse_transform(pred_labels)\n",
    "\n",
    "submission = pd.DataFrame({'id_img': test['id_img'].values, 'label': submi_2})\n",
    "submission.to_csv('submission_4.csv', index=False)"
   ]
  },
  {
   "cell_type": "code",
   "execution_count": 53,
   "metadata": {},
   "outputs": [],
   "source": [
    "model_5 = keras.Sequential([\n",
    "    # Primera capa convolucional\n",
    "    keras.layers.Conv2D(64, (3, 3), activation=\"relu\", input_shape=IMAGE_SIZE),\n",
    "    keras.layers.MaxPooling2D(2, 2),\n",
    "\n",
    "    # Segunda capa convolucional\n",
    "    keras.layers.Conv2D(128, (3, 3), activation=\"relu\"),\n",
    "    keras.layers.MaxPooling2D(2, 2),\n",
    "\n",
    "    # Tercera capa convolucional\n",
    "    keras.layers.Conv2D(256, (3, 3), activation=\"relu\"),\n",
    "    keras.layers.MaxPooling2D(2, 2),\n",
    "\n",
    "    # Aplanar los resultados para alimentar una DNN\n",
    "    keras.layers.Flatten(),\n",
    "\n",
    "    # Capa densa con regularización\n",
    "    keras.layers.Dense(128, activation=\"relu\"),\n",
    "    keras.layers.Dropout(0.2),\n",
    "\n",
    "    # Segunda capa densa\n",
    "    keras.layers.Dense(64, activation=\"relu\"),\n",
    "    keras.layers.Dropout(0.2),\n",
    "\n",
    "    # Capa de salida\n",
    "    keras.layers.Dense(7, activation=\"softmax\")\n",
    "])\n",
    "\n",
    "optimizer = keras.optimizers.Adam(learning_rate=0.0005)\n",
    "\n",
    "model_5.compile(optimizer=optimizer,\n",
    "              loss=\"sparse_categorical_crossentropy\",\n",
    "              metrics=['accuracy'])"
   ]
  },
  {
   "cell_type": "code",
   "execution_count": 54,
   "metadata": {},
   "outputs": [
    {
     "name": "stdout",
     "output_type": "stream",
     "text": [
      "Epoch 1/20\n",
      "721/721 [==============================] - 21s 29ms/step - loss: 2.0802 - accuracy: 0.1849 - val_loss: 1.7432 - val_accuracy: 0.2397\n",
      "Epoch 2/20\n",
      "721/721 [==============================] - 20s 28ms/step - loss: 1.8658 - accuracy: 0.3248 - val_loss: 1.4898 - val_accuracy: 0.4250\n",
      "Epoch 3/20\n",
      "721/721 [==============================] - 20s 28ms/step - loss: 1.7038 - accuracy: 0.4297 - val_loss: 1.4397 - val_accuracy: 0.4402\n",
      "Epoch 4/20\n",
      "721/721 [==============================] - 21s 29ms/step - loss: 1.5953 - accuracy: 0.4677 - val_loss: 1.3422 - val_accuracy: 0.4904\n",
      "Epoch 5/20\n",
      "721/721 [==============================] - 20s 28ms/step - loss: 1.4954 - accuracy: 0.5100 - val_loss: 1.2999 - val_accuracy: 0.5008\n",
      "Epoch 6/20\n",
      "721/721 [==============================] - 20s 28ms/step - loss: 1.4091 - accuracy: 0.5366 - val_loss: 1.3015 - val_accuracy: 0.5131\n",
      "Epoch 7/20\n",
      "721/721 [==============================] - 21s 28ms/step - loss: 1.3368 - accuracy: 0.5641 - val_loss: 1.2673 - val_accuracy: 0.5259\n",
      "Epoch 8/20\n",
      "721/721 [==============================] - 20s 28ms/step - loss: 1.2448 - accuracy: 0.5877 - val_loss: 1.2860 - val_accuracy: 0.5233\n",
      "Epoch 9/20\n",
      "721/721 [==============================] - 21s 29ms/step - loss: 1.1630 - accuracy: 0.6132 - val_loss: 1.2490 - val_accuracy: 0.5414\n",
      "Epoch 10/20\n",
      "721/721 [==============================] - 20s 28ms/step - loss: 1.0835 - accuracy: 0.6419 - val_loss: 1.2922 - val_accuracy: 0.5233\n",
      "Epoch 11/20\n",
      "721/721 [==============================] - 20s 28ms/step - loss: 1.0039 - accuracy: 0.6644 - val_loss: 1.2733 - val_accuracy: 0.5362\n",
      "Epoch 12/20\n",
      "721/721 [==============================] - 20s 28ms/step - loss: 0.9281 - accuracy: 0.6892 - val_loss: 1.2993 - val_accuracy: 0.5483\n",
      "Epoch 13/20\n",
      "721/721 [==============================] - 20s 28ms/step - loss: 0.8594 - accuracy: 0.7037 - val_loss: 1.3804 - val_accuracy: 0.5367\n",
      "Epoch 14/20\n",
      "721/721 [==============================] - 20s 28ms/step - loss: 0.7808 - accuracy: 0.7324 - val_loss: 1.4580 - val_accuracy: 0.5381\n"
     ]
    }
   ],
   "source": [
    "history = model_5.fit(X_train,\n",
    "                    y_train,\n",
    "                    class_weight=class_weight_dict,\n",
    "                    batch_size=BATCH_SIZE,\n",
    "                    epochs=20,\n",
    "                    callbacks = earlystop,\n",
    "                    validation_split=0.2)"
   ]
  },
  {
   "cell_type": "code",
   "execution_count": 57,
   "metadata": {},
   "outputs": [
    {
     "name": "stdout",
     "output_type": "stream",
     "text": [
      "221/221 [==============================] - 2s 8ms/step\n"
     ]
    }
   ],
   "source": [
    "y_pred = model_5.predict(X_test)\n",
    "pred_labels = np.argmax(y_pred, axis=1)\n",
    "pred_labels\n",
    "submi = label_encoder.inverse_transform(pred_labels)\n",
    "\n",
    "submission = pd.DataFrame({'id_img': test['id_img'].values, 'label': submi})\n",
    "submission.to_csv('submission_5.csv', index=False)"
   ]
  },
  {
   "cell_type": "code",
   "execution_count": 62,
   "metadata": {},
   "outputs": [],
   "source": [
    "model_6 = keras.Sequential([\n",
    "    # Primera capa convolucional\n",
    "    keras.layers.Conv2D(64, (3, 3), input_shape=IMAGE_SIZE),\n",
    "    keras.layers.Activation(\"relu\"),\n",
    "    keras.layers.MaxPooling2D(2, 2),\n",
    "\n",
    "    # Segunda capa convolucional\n",
    "    keras.layers.Conv2D(128, (3, 3)),\n",
    "    keras.layers.Activation(\"relu\"),\n",
    "    keras.layers.MaxPooling2D(2, 2),\n",
    "\n",
    "    # Tercera capa convolucional\n",
    "    keras.layers.Conv2D(256, (3, 3)),\n",
    "    keras.layers.Activation(\"relu\"),\n",
    "    keras.layers.MaxPooling2D(2, 2),\n",
    "\n",
    "    # Aplanar los resultados para alimentar una DNN\n",
    "    keras.layers.Flatten(),\n",
    "\n",
    "    # Capa densa con regularización\n",
    "    keras.layers.Dense(128, activation=\"relu\"),\n",
    "    keras.layers.Dropout(0.3),\n",
    "\n",
    "    # Segunda capa densa\n",
    "    keras.layers.Dense(64, activation=\"relu\"),\n",
    "    keras.layers.Dropout(0.3),\n",
    "\n",
    "    # Capa de salida\n",
    "    keras.layers.Dense(7, activation=\"softmax\")\n",
    "])\n",
    "\n",
    "optimizer = keras.optimizers.Adam(learning_rate=0.0005)\n",
    "\n",
    "model_6.compile(optimizer=optimizer,\n",
    "                loss=\"sparse_categorical_crossentropy\",\n",
    "                metrics=['accuracy'])\n"
   ]
  },
  {
   "cell_type": "code",
   "execution_count": 63,
   "metadata": {},
   "outputs": [
    {
     "name": "stdout",
     "output_type": "stream",
     "text": [
      "Epoch 1/20\n",
      "721/721 [==============================] - 27s 37ms/step - loss: 2.1106 - accuracy: 0.1798 - val_loss: 1.7642 - val_accuracy: 0.2328\n",
      "Epoch 2/20\n",
      "721/721 [==============================] - 27s 37ms/step - loss: 1.9200 - accuracy: 0.2800 - val_loss: 1.5948 - val_accuracy: 0.3873\n",
      "Epoch 3/20\n",
      "721/721 [==============================] - 27s 37ms/step - loss: 1.7908 - accuracy: 0.3854 - val_loss: 1.5302 - val_accuracy: 0.4180\n",
      "Epoch 4/20\n",
      "721/721 [==============================] - 26s 36ms/step - loss: 1.6838 - accuracy: 0.4420 - val_loss: 1.4103 - val_accuracy: 0.4600\n",
      "Epoch 5/20\n",
      "721/721 [==============================] - 27s 37ms/step - loss: 1.5938 - accuracy: 0.4678 - val_loss: 1.3937 - val_accuracy: 0.4742\n",
      "Epoch 6/20\n",
      "721/721 [==============================] - 26s 37ms/step - loss: 1.5152 - accuracy: 0.5024 - val_loss: 1.2758 - val_accuracy: 0.5030\n",
      "Epoch 7/20\n",
      "721/721 [==============================] - 26s 37ms/step - loss: 1.4385 - accuracy: 0.5270 - val_loss: 1.2935 - val_accuracy: 0.5117\n",
      "Epoch 8/20\n",
      "721/721 [==============================] - 27s 38ms/step - loss: 1.3647 - accuracy: 0.5535 - val_loss: 1.2539 - val_accuracy: 0.5334\n",
      "Epoch 9/20\n",
      "721/721 [==============================] - 27s 38ms/step - loss: 1.2869 - accuracy: 0.5754 - val_loss: 1.2698 - val_accuracy: 0.5263\n",
      "Epoch 10/20\n",
      "721/721 [==============================] - 29s 40ms/step - loss: 1.2124 - accuracy: 0.5939 - val_loss: 1.2687 - val_accuracy: 0.5240\n",
      "Epoch 11/20\n",
      "721/721 [==============================] - 27s 37ms/step - loss: 1.1417 - accuracy: 0.6200 - val_loss: 1.2408 - val_accuracy: 0.5419\n",
      "Epoch 12/20\n",
      "721/721 [==============================] - 28s 38ms/step - loss: 1.0760 - accuracy: 0.6394 - val_loss: 1.2757 - val_accuracy: 0.5435\n",
      "Epoch 13/20\n",
      "721/721 [==============================] - 28s 38ms/step - loss: 1.0063 - accuracy: 0.6661 - val_loss: 1.2735 - val_accuracy: 0.5426\n",
      "Epoch 14/20\n",
      "721/721 [==============================] - 25s 35ms/step - loss: 0.9415 - accuracy: 0.6769 - val_loss: 1.3221 - val_accuracy: 0.5306\n",
      "Epoch 15/20\n",
      "721/721 [==============================] - 26s 35ms/step - loss: 0.8763 - accuracy: 0.7009 - val_loss: 1.3324 - val_accuracy: 0.5445\n",
      "Epoch 16/20\n",
      "721/721 [==============================] - 26s 37ms/step - loss: 0.8210 - accuracy: 0.7186 - val_loss: 1.4414 - val_accuracy: 0.5325\n"
     ]
    }
   ],
   "source": [
    "history = model_6.fit(X_train,\n",
    "                    y_train,\n",
    "                    class_weight=class_weight_dict,\n",
    "                    batch_size=BATCH_SIZE,\n",
    "                    epochs=20,\n",
    "                    callbacks = earlystop,\n",
    "                    validation_split=0.2)"
   ]
  },
  {
   "cell_type": "code",
   "execution_count": 60,
   "metadata": {},
   "outputs": [
    {
     "name": "stdout",
     "output_type": "stream",
     "text": [
      "221/221 [==============================] - 3s 15ms/step\n"
     ]
    }
   ],
   "source": [
    "y_pred = model_6.predict(X_test)\n",
    "pred_labels = np.argmax(y_pred, axis=1)\n",
    "pred_labels\n",
    "submi = label_encoder.inverse_transform(pred_labels)\n",
    "\n",
    "submission = pd.DataFrame({'id_img': test['id_img'].values, 'label': submi})\n",
    "submission.to_csv('submission_5.csv', index=False)"
   ]
  },
  {
   "cell_type": "code",
   "execution_count": 64,
   "metadata": {},
   "outputs": [],
   "source": [
    "from sklearn.model_selection import train_test_split\n",
    "\n",
    "# Dividir el conjunto de entrenamiento original en un nuevo conjunto de entrenamiento y un conjunto de validación\n",
    "X_train_new, X_val, y_train_new, y_val = train_test_split(X_train, y_train, test_size=0.2, random_state=42)\n"
   ]
  },
  {
   "cell_type": "code",
   "execution_count": 65,
   "metadata": {},
   "outputs": [],
   "source": [
    "from tensorflow.keras.preprocessing.image import ImageDataGenerator\n",
    "\n",
    "# Crear un generador de datos con data augmentation\n",
    "train_datagen = ImageDataGenerator(\n",
    "    rotation_range=20,       # rotaciones aleatorias\n",
    "    width_shift_range=0.2,   # desplazamiento horizontal\n",
    "    height_shift_range=0.2,  # desplazamiento vertical\n",
    "    shear_range=0.2,         # cizallamiento\n",
    "    zoom_range=0.2,          # zoom\n",
    "    horizontal_flip=True,    # volteo horizontal\n",
    "    fill_mode='nearest'      # modo de llenado para nuevas píxeles\n",
    ")\n",
    "\n",
    "# El generador de validación no debe tener data augmentation, solo normalización\n",
    "validation_datagen = ImageDataGenerator()\n",
    "\n",
    "# Aplicar el generador a los datos de entrenamiento\n",
    "train_generator = train_datagen.flow(\n",
    "    X_train, y_train, \n",
    "    batch_size=BATCH_SIZE\n",
    ")\n",
    "\n",
    "# Aplicar el generador de validación a los datos de validación\n",
    "validation_generator = validation_datagen.flow(\n",
    "    X_val, y_val, \n",
    "    batch_size=BATCH_SIZE\n",
    ")\n"
   ]
  },
  {
   "cell_type": "code",
   "execution_count": 66,
   "metadata": {},
   "outputs": [],
   "source": [
    "model_7 = keras.Sequential([\n",
    "    # Primera capa convolucional\n",
    "    keras.layers.Conv2D(64, (3, 3), input_shape=IMAGE_SIZE),\n",
    "    keras.layers.Activation(\"relu\"),\n",
    "    keras.layers.MaxPooling2D(2, 2),\n",
    "\n",
    "    # Segunda capa convolucional\n",
    "    keras.layers.Conv2D(128, (3, 3)),\n",
    "    keras.layers.Activation(\"relu\"),\n",
    "    keras.layers.MaxPooling2D(2, 2),\n",
    "\n",
    "    # Tercera capa convolucional\n",
    "    keras.layers.Conv2D(256, (3, 3)),\n",
    "    keras.layers.Activation(\"relu\"),\n",
    "    keras.layers.MaxPooling2D(2, 2),\n",
    "\n",
    "    # Aplanar los resultados para alimentar una DNN\n",
    "    keras.layers.Flatten(),\n",
    "\n",
    "    # Capa densa con regularización\n",
    "    keras.layers.Dense(128, activation=\"relu\"),\n",
    "    keras.layers.Dropout(0.3),\n",
    "\n",
    "    # Segunda capa densa\n",
    "    keras.layers.Dense(64, activation=\"relu\"),\n",
    "    keras.layers.Dropout(0.3),\n",
    "\n",
    "    # Capa de salida\n",
    "    keras.layers.Dense(7, activation=\"softmax\")\n",
    "])\n",
    "\n",
    "optimizer = keras.optimizers.Adam(learning_rate=0.0005)\n",
    "\n",
    "model_7.compile(optimizer=optimizer,\n",
    "                loss=\"sparse_categorical_crossentropy\",\n",
    "                metrics=['accuracy'])\n"
   ]
  },
  {
   "cell_type": "code",
   "execution_count": 67,
   "metadata": {},
   "outputs": [
    {
     "name": "stdout",
     "output_type": "stream",
     "text": [
      "Epoch 1/20\n",
      "900/900 [==============================] - 38s 41ms/step - loss: 2.1538 - accuracy: 0.1628 - val_loss: 1.8449 - val_accuracy: 0.1946\n",
      "Epoch 2/20\n",
      "900/900 [==============================] - 36s 40ms/step - loss: 2.0696 - accuracy: 0.2017 - val_loss: 1.8108 - val_accuracy: 0.2290\n",
      "Epoch 3/20\n",
      "900/900 [==============================] - 36s 40ms/step - loss: 1.9934 - accuracy: 0.2170 - val_loss: 1.7625 - val_accuracy: 0.2609\n",
      "Epoch 4/20\n",
      "900/900 [==============================] - 36s 40ms/step - loss: 1.9606 - accuracy: 0.2346 - val_loss: 1.7941 - val_accuracy: 0.2717\n",
      "Epoch 5/20\n",
      "900/900 [==============================] - 35s 38ms/step - loss: 1.9285 - accuracy: 0.2575 - val_loss: 1.7024 - val_accuracy: 0.3043\n",
      "Epoch 6/20\n",
      "900/900 [==============================] - 38s 42ms/step - loss: 1.8952 - accuracy: 0.2742 - val_loss: 1.6827 - val_accuracy: 0.3271\n",
      "Epoch 7/20\n",
      "900/900 [==============================] - 36s 40ms/step - loss: 1.8715 - accuracy: 0.2955 - val_loss: 1.7191 - val_accuracy: 0.3450\n",
      "Epoch 8/20\n",
      "900/900 [==============================] - 34s 38ms/step - loss: 1.8416 - accuracy: 0.3242 - val_loss: 1.4850 - val_accuracy: 0.4627\n",
      "Epoch 9/20\n",
      "900/900 [==============================] - 35s 39ms/step - loss: 1.8082 - accuracy: 0.3631 - val_loss: 1.4592 - val_accuracy: 0.4608\n",
      "Epoch 10/20\n",
      "900/900 [==============================] - 34s 38ms/step - loss: 1.7631 - accuracy: 0.3916 - val_loss: 1.4199 - val_accuracy: 0.4752\n",
      "Epoch 11/20\n",
      "900/900 [==============================] - 37s 41ms/step - loss: 1.7374 - accuracy: 0.4089 - val_loss: 1.3454 - val_accuracy: 0.5021\n",
      "Epoch 12/20\n",
      "900/900 [==============================] - 35s 39ms/step - loss: 1.7131 - accuracy: 0.4212 - val_loss: 1.3508 - val_accuracy: 0.4977\n",
      "Epoch 13/20\n",
      "900/900 [==============================] - 37s 41ms/step - loss: 1.6879 - accuracy: 0.4402 - val_loss: 1.2977 - val_accuracy: 0.5158\n",
      "Epoch 14/20\n",
      "900/900 [==============================] - 35s 38ms/step - loss: 1.6688 - accuracy: 0.4424 - val_loss: 1.2646 - val_accuracy: 0.5280\n",
      "Epoch 15/20\n",
      "900/900 [==============================] - 36s 40ms/step - loss: 1.6484 - accuracy: 0.4542 - val_loss: 1.2300 - val_accuracy: 0.5396\n",
      "Epoch 16/20\n",
      "900/900 [==============================] - 35s 39ms/step - loss: 1.6344 - accuracy: 0.4663 - val_loss: 1.2451 - val_accuracy: 0.5365\n",
      "Epoch 17/20\n",
      "900/900 [==============================] - 33s 36ms/step - loss: 1.6194 - accuracy: 0.4677 - val_loss: 1.1935 - val_accuracy: 0.5583\n",
      "Epoch 18/20\n",
      "900/900 [==============================] - 37s 41ms/step - loss: 1.6018 - accuracy: 0.4743 - val_loss: 1.2204 - val_accuracy: 0.5441\n",
      "Epoch 19/20\n",
      "900/900 [==============================] - 36s 40ms/step - loss: 1.5887 - accuracy: 0.4834 - val_loss: 1.2008 - val_accuracy: 0.5474\n",
      "Epoch 20/20\n",
      "900/900 [==============================] - 36s 40ms/step - loss: 1.5822 - accuracy: 0.4863 - val_loss: 1.1703 - val_accuracy: 0.5589\n"
     ]
    }
   ],
   "source": [
    "history = model_7.fit(\n",
    "    train_generator,\n",
    "    steps_per_epoch=len(X_train) // BATCH_SIZE,  # Número de lotes por época\n",
    "    epochs=20,\n",
    "    validation_data=validation_generator,\n",
    "    validation_steps=len(X_val) // BATCH_SIZE,  # Número de lotes de validación\n",
    "    class_weight=class_weight_dict,\n",
    "    callbacks=[earlystop]\n",
    ")\n"
   ]
  },
  {
   "cell_type": "code",
   "execution_count": 68,
   "metadata": {},
   "outputs": [
    {
     "name": "stdout",
     "output_type": "stream",
     "text": [
      "Epoch 1/20\n",
      "900/900 [==============================] - 36s 40ms/step - loss: 1.5747 - accuracy: 0.4894 - val_loss: 1.1442 - val_accuracy: 0.5729\n",
      "Epoch 2/20\n",
      "900/900 [==============================] - 34s 38ms/step - loss: 1.5646 - accuracy: 0.4923 - val_loss: 1.2005 - val_accuracy: 0.5547\n",
      "Epoch 3/20\n",
      "900/900 [==============================] - 31s 35ms/step - loss: 1.5649 - accuracy: 0.4947 - val_loss: 1.1971 - val_accuracy: 0.5495\n",
      "Epoch 4/20\n",
      "900/900 [==============================] - 33s 37ms/step - loss: 1.5467 - accuracy: 0.4959 - val_loss: 1.1349 - val_accuracy: 0.5769\n",
      "Epoch 5/20\n",
      "900/900 [==============================] - 32s 36ms/step - loss: 1.5408 - accuracy: 0.5004 - val_loss: 1.1383 - val_accuracy: 0.5701\n",
      "Epoch 6/20\n",
      "900/900 [==============================] - 36s 39ms/step - loss: 1.5368 - accuracy: 0.5027 - val_loss: 1.1648 - val_accuracy: 0.5663\n",
      "Epoch 7/20\n",
      "900/900 [==============================] - 35s 39ms/step - loss: 1.5231 - accuracy: 0.5065 - val_loss: 1.1457 - val_accuracy: 0.5752\n",
      "Epoch 8/20\n",
      "900/900 [==============================] - 35s 39ms/step - loss: 1.5182 - accuracy: 0.5090 - val_loss: 1.1520 - val_accuracy: 0.5688\n",
      "Epoch 9/20\n",
      "900/900 [==============================] - 35s 39ms/step - loss: 1.5034 - accuracy: 0.5085 - val_loss: 1.1023 - val_accuracy: 0.5835\n",
      "Epoch 10/20\n",
      "900/900 [==============================] - 35s 39ms/step - loss: 1.5058 - accuracy: 0.5127 - val_loss: 1.1169 - val_accuracy: 0.5835\n",
      "Epoch 11/20\n",
      "900/900 [==============================] - 36s 40ms/step - loss: 1.4994 - accuracy: 0.5160 - val_loss: 1.1183 - val_accuracy: 0.5793\n",
      "Epoch 12/20\n",
      "900/900 [==============================] - 36s 40ms/step - loss: 1.4941 - accuracy: 0.5171 - val_loss: 1.1368 - val_accuracy: 0.5743\n",
      "Epoch 13/20\n",
      "900/900 [==============================] - 30s 34ms/step - loss: 1.4851 - accuracy: 0.5207 - val_loss: 1.1162 - val_accuracy: 0.5823\n",
      "Epoch 14/20\n",
      "900/900 [==============================] - 31s 34ms/step - loss: 1.4806 - accuracy: 0.5205 - val_loss: 1.1003 - val_accuracy: 0.5898\n",
      "Epoch 15/20\n",
      "900/900 [==============================] - 32s 36ms/step - loss: 1.4802 - accuracy: 0.5235 - val_loss: 1.0925 - val_accuracy: 0.5983\n",
      "Epoch 16/20\n",
      "900/900 [==============================] - 32s 36ms/step - loss: 1.4687 - accuracy: 0.5273 - val_loss: 1.0733 - val_accuracy: 0.5938\n",
      "Epoch 17/20\n",
      "900/900 [==============================] - 35s 38ms/step - loss: 1.4795 - accuracy: 0.5237 - val_loss: 1.0815 - val_accuracy: 0.5967\n",
      "Epoch 18/20\n",
      "900/900 [==============================] - 36s 40ms/step - loss: 1.4617 - accuracy: 0.5244 - val_loss: 1.0792 - val_accuracy: 0.5913\n",
      "Epoch 19/20\n",
      "900/900 [==============================] - 36s 40ms/step - loss: 1.4587 - accuracy: 0.5266 - val_loss: 1.0706 - val_accuracy: 0.5948\n",
      "Epoch 20/20\n",
      "900/900 [==============================] - 34s 38ms/step - loss: 1.4528 - accuracy: 0.5278 - val_loss: 1.0209 - val_accuracy: 0.6168\n"
     ]
    }
   ],
   "source": [
    "history = model_7.fit(\n",
    "    train_generator,\n",
    "    steps_per_epoch=len(X_train) // BATCH_SIZE,  # Número de lotes por época\n",
    "    epochs=20,\n",
    "    validation_data=validation_generator,\n",
    "    validation_steps=len(X_val) // BATCH_SIZE,  # Número de lotes de validación\n",
    "    class_weight=class_weight_dict,\n",
    "    callbacks=[earlystop]\n",
    ")\n"
   ]
  },
  {
   "cell_type": "code",
   "execution_count": 69,
   "metadata": {},
   "outputs": [
    {
     "name": "stdout",
     "output_type": "stream",
     "text": [
      "Epoch 1/20\n",
      "900/900 [==============================] - 35s 39ms/step - loss: 1.4536 - accuracy: 0.5292 - val_loss: 1.0684 - val_accuracy: 0.6005\n",
      "Epoch 2/20\n",
      "900/900 [==============================] - 36s 40ms/step - loss: 1.4558 - accuracy: 0.5334 - val_loss: 1.0521 - val_accuracy: 0.6083\n",
      "Epoch 3/20\n",
      "900/900 [==============================] - 34s 38ms/step - loss: 1.4522 - accuracy: 0.5324 - val_loss: 1.0581 - val_accuracy: 0.5990\n",
      "Epoch 4/20\n",
      "900/900 [==============================] - 36s 40ms/step - loss: 1.4459 - accuracy: 0.5343 - val_loss: 1.0393 - val_accuracy: 0.6066\n",
      "Epoch 5/20\n",
      "900/900 [==============================] - 35s 39ms/step - loss: 1.4412 - accuracy: 0.5387 - val_loss: 1.0552 - val_accuracy: 0.6017\n",
      "Epoch 6/20\n",
      "900/900 [==============================] - 35s 39ms/step - loss: 1.4338 - accuracy: 0.5387 - val_loss: 1.1282 - val_accuracy: 0.5809\n",
      "Epoch 7/20\n",
      "900/900 [==============================] - 34s 38ms/step - loss: 1.4248 - accuracy: 0.5429 - val_loss: 1.0655 - val_accuracy: 0.5991\n",
      "Epoch 8/20\n",
      "900/900 [==============================] - 35s 39ms/step - loss: 1.4267 - accuracy: 0.5431 - val_loss: 1.0324 - val_accuracy: 0.6118\n",
      "Epoch 9/20\n",
      "900/900 [==============================] - 35s 39ms/step - loss: 1.4185 - accuracy: 0.5419 - val_loss: 1.0819 - val_accuracy: 0.5995\n",
      "Epoch 10/20\n",
      "900/900 [==============================] - 35s 39ms/step - loss: 1.4227 - accuracy: 0.5427 - val_loss: 1.0521 - val_accuracy: 0.5983\n",
      "Epoch 11/20\n",
      "900/900 [==============================] - 35s 39ms/step - loss: 1.4169 - accuracy: 0.5463 - val_loss: 1.0249 - val_accuracy: 0.6167\n",
      "Epoch 12/20\n",
      "900/900 [==============================] - 38s 42ms/step - loss: 1.4150 - accuracy: 0.5438 - val_loss: 1.0695 - val_accuracy: 0.6017\n",
      "Epoch 13/20\n",
      "900/900 [==============================] - 37s 41ms/step - loss: 1.4149 - accuracy: 0.5482 - val_loss: 1.0792 - val_accuracy: 0.5922\n",
      "Epoch 14/20\n",
      "900/900 [==============================] - 34s 38ms/step - loss: 1.4037 - accuracy: 0.5508 - val_loss: 1.0638 - val_accuracy: 0.6012\n",
      "Epoch 15/20\n",
      "900/900 [==============================] - 30s 34ms/step - loss: 1.4059 - accuracy: 0.5499 - val_loss: 1.0254 - val_accuracy: 0.6142\n",
      "Epoch 16/20\n",
      "900/900 [==============================] - 30s 33ms/step - loss: 1.4073 - accuracy: 0.5476 - val_loss: 1.0311 - val_accuracy: 0.6078\n"
     ]
    }
   ],
   "source": [
    "history = model_7.fit(\n",
    "    train_generator,\n",
    "    steps_per_epoch=len(X_train) // BATCH_SIZE,  # Número de lotes por época\n",
    "    epochs=20,\n",
    "    validation_data=validation_generator,\n",
    "    validation_steps=len(X_val) // BATCH_SIZE,  # Número de lotes de validación\n",
    "    class_weight=class_weight_dict,\n",
    "    callbacks=[earlystop]\n",
    ")\n"
   ]
  },
  {
   "cell_type": "code",
   "execution_count": 70,
   "metadata": {},
   "outputs": [
    {
     "name": "stdout",
     "output_type": "stream",
     "text": [
      "221/221 [==============================] - 2s 10ms/step\n"
     ]
    }
   ],
   "source": [
    "y_pred = model_7.predict(X_test)\n",
    "pred_labels = np.argmax(y_pred, axis=1)\n",
    "pred_labels\n",
    "submi = label_encoder.inverse_transform(pred_labels)\n",
    "\n",
    "submission = pd.DataFrame({'id_img': test['id_img'].values, 'label': submi})\n",
    "submission.to_csv('submission_6.csv', index=False)"
   ]
  },
  {
   "cell_type": "code",
   "execution_count": null,
   "metadata": {},
   "outputs": [],
   "source": []
  }
 ],
 "metadata": {
  "kernelspec": {
   "display_name": "Python 3",
   "language": "python",
   "name": "python3"
  },
  "language_info": {
   "codemirror_mode": {
    "name": "ipython",
    "version": 3
   },
   "file_extension": ".py",
   "mimetype": "text/x-python",
   "name": "python",
   "nbconvert_exporter": "python",
   "pygments_lexer": "ipython3",
   "version": "3.11.4"
  }
 },
 "nbformat": 4,
 "nbformat_minor": 2
}
